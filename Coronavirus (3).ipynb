{
 "cells": [
  {
   "cell_type": "markdown",
   "metadata": {},
   "source": [
    "Используя данные на страницах https://стопкоронавирус.рф/information/,  http://www.statdata.ru/nasel_regions  отобразить на графике №1 процент заболевших за последний день людей в зависимости от плотности населения для каждого региона. На графике №2 отобразить \"среднюю\" вероятность заболеть (% в день) для каждого региона на карте (России) и найти (распечатать) самый безопасный по этому критерию регион.\n",
    "График №1: по горизонтальной оси -  плотность населения (чел/км2); по вертикальной оси - % заболевших за день. \n",
    "Для графика №1 использовать для подсчёта % заболевших колонку «Новые» (см. рисунок ниже)\n",
    "График №2 (карта России): при наведении на регион должна отображаться вероятность заболеть в %\n",
    "\"Средняя\" вероятность заболеть = заболевшие за день/количество населения * 100%\n"
   ]
  },
  {
   "cell_type": "code",
   "execution_count": 1,
   "metadata": {},
   "outputs": [],
   "source": [
    "#Импортируем нужные библиотеки\n",
    "import requests\n",
    "import json\n",
    "import pandas as pd\n",
    "import plotly.express as px"
   ]
  },
  {
   "cell_type": "code",
   "execution_count": 2,
   "metadata": {},
   "outputs": [],
   "source": [
    "#Парсим сайт стопкоронавирус\n",
    "\n",
    "html = requests.get('https://xn--80aesfpebagmfblc0a.xn--p1ai/information/').text\n",
    "\n",
    "start = '<cv-spread-overview :spread-data='  # Начало обрезки\n",
    "end = \"isolation-data\"  # Конец обрезки\n",
    "\n",
    "raw_json_data = html[html.find(start) + 34:html.find(end) - 3]  # Вырезаем json из html страницы\n",
    "\n",
    "json_data = json.loads(raw_json_data)\n",
    "\n",
    "city = []\n",
    "\n",
    "for item in json_data:\n",
    "\n",
    "    title = item['title']  # Город\n",
    "    sick = item['sick']  # Выявлено\n",
    "    healed = item['healed']  # Выздоровело\n",
    "    died = item['died']  # Умерло\n",
    "    sick_incr = item['sick_incr']  # Новые\n",
    "    healed_incr = item['healed_incr']  # В ыздоровело за сутки\n",
    "    died_incr = item['died_incr']  # Умерло за сутки\n",
    "\n",
    "#Добавляем в список полученные значения   \n",
    "    city.append(title)\n",
    "    city.append(sick)\n",
    "    city.append(healed)\n",
    "    city.append(died)\n",
    "    city.append(sick_incr)\n",
    "    city.append(healed_incr)\n",
    "    city.append(died_incr)\n",
    "\n",
    "#Убираем лишнее\n",
    "def split(arr, size):\n",
    "    arrs = []\n",
    "    while len(arr) > size:\n",
    "        pice = arr[:size]\n",
    "        arrs.append(pice)\n",
    "        arr = arr[size:]\n",
    "    arrs.append(arr)\n",
    "    return arrs\n",
    "\n",
    "a = (split(city, 7))"
   ]
  },
  {
   "cell_type": "code",
   "execution_count": 3,
   "metadata": {},
   "outputs": [
    {
     "data": {
      "text/html": [
       "<div>\n",
       "<style scoped>\n",
       "    .dataframe tbody tr th:only-of-type {\n",
       "        vertical-align: middle;\n",
       "    }\n",
       "\n",
       "    .dataframe tbody tr th {\n",
       "        vertical-align: top;\n",
       "    }\n",
       "\n",
       "    .dataframe thead th {\n",
       "        text-align: right;\n",
       "    }\n",
       "</style>\n",
       "<table border=\"1\" class=\"dataframe\">\n",
       "  <thead>\n",
       "    <tr style=\"text-align: right;\">\n",
       "      <th></th>\n",
       "      <th>city</th>\n",
       "      <th>identified</th>\n",
       "      <th>recovered</th>\n",
       "      <th>died</th>\n",
       "      <th>new</th>\n",
       "      <th>recovered_day</th>\n",
       "      <th>died_day</th>\n",
       "    </tr>\n",
       "  </thead>\n",
       "  <tbody>\n",
       "    <tr>\n",
       "      <th>0</th>\n",
       "      <td>Москва</td>\n",
       "      <td>1530989</td>\n",
       "      <td>1395285</td>\n",
       "      <td>26309</td>\n",
       "      <td>1639</td>\n",
       "      <td>3072</td>\n",
       "      <td>61</td>\n",
       "    </tr>\n",
       "    <tr>\n",
       "      <th>1</th>\n",
       "      <td>Санкт-Петербург</td>\n",
       "      <td>547704</td>\n",
       "      <td>519868</td>\n",
       "      <td>19757</td>\n",
       "      <td>1811</td>\n",
       "      <td>1972</td>\n",
       "      <td>49</td>\n",
       "    </tr>\n",
       "    <tr>\n",
       "      <th>2</th>\n",
       "      <td>Московская область</td>\n",
       "      <td>400007</td>\n",
       "      <td>330540</td>\n",
       "      <td>7491</td>\n",
       "      <td>1309</td>\n",
       "      <td>1922</td>\n",
       "      <td>29</td>\n",
       "    </tr>\n",
       "    <tr>\n",
       "      <th>3</th>\n",
       "      <td>Нижегородская область</td>\n",
       "      <td>145993</td>\n",
       "      <td>132727</td>\n",
       "      <td>5325</td>\n",
       "      <td>537</td>\n",
       "      <td>425</td>\n",
       "      <td>25</td>\n",
       "    </tr>\n",
       "    <tr>\n",
       "      <th>4</th>\n",
       "      <td>Ростовская область</td>\n",
       "      <td>114218</td>\n",
       "      <td>100373</td>\n",
       "      <td>5412</td>\n",
       "      <td>479</td>\n",
       "      <td>374</td>\n",
       "      <td>26</td>\n",
       "    </tr>\n",
       "    <tr>\n",
       "      <th>...</th>\n",
       "      <td>...</td>\n",
       "      <td>...</td>\n",
       "      <td>...</td>\n",
       "      <td>...</td>\n",
       "      <td>...</td>\n",
       "      <td>...</td>\n",
       "      <td>...</td>\n",
       "    </tr>\n",
       "    <tr>\n",
       "      <th>80</th>\n",
       "      <td>Республика Марий Эл</td>\n",
       "      <td>16688</td>\n",
       "      <td>15047</td>\n",
       "      <td>413</td>\n",
       "      <td>61</td>\n",
       "      <td>51</td>\n",
       "      <td>1</td>\n",
       "    </tr>\n",
       "    <tr>\n",
       "      <th>81</th>\n",
       "      <td>Магаданская область</td>\n",
       "      <td>9775</td>\n",
       "      <td>8895</td>\n",
       "      <td>179</td>\n",
       "      <td>29</td>\n",
       "      <td>18</td>\n",
       "      <td>2</td>\n",
       "    </tr>\n",
       "    <tr>\n",
       "      <th>82</th>\n",
       "      <td>Еврейская автономная область</td>\n",
       "      <td>6125</td>\n",
       "      <td>4636</td>\n",
       "      <td>188</td>\n",
       "      <td>39</td>\n",
       "      <td>37</td>\n",
       "      <td>0</td>\n",
       "    </tr>\n",
       "    <tr>\n",
       "      <th>83</th>\n",
       "      <td>Ненецкий автономный округ</td>\n",
       "      <td>1694</td>\n",
       "      <td>1592</td>\n",
       "      <td>17</td>\n",
       "      <td>10</td>\n",
       "      <td>2</td>\n",
       "      <td>0</td>\n",
       "    </tr>\n",
       "    <tr>\n",
       "      <th>84</th>\n",
       "      <td>Чукотский автономный округ</td>\n",
       "      <td>1261</td>\n",
       "      <td>934</td>\n",
       "      <td>9</td>\n",
       "      <td>2</td>\n",
       "      <td>8</td>\n",
       "      <td>0</td>\n",
       "    </tr>\n",
       "  </tbody>\n",
       "</table>\n",
       "<p>85 rows × 7 columns</p>\n",
       "</div>"
      ],
      "text/plain": [
       "                            city  identified  recovered   died   new  \\\n",
       "0                         Москва     1530989    1395285  26309  1639   \n",
       "1                Санкт-Петербург      547704     519868  19757  1811   \n",
       "2             Московская область      400007     330540   7491  1309   \n",
       "3          Нижегородская область      145993     132727   5325   537   \n",
       "4             Ростовская область      114218     100373   5412   479   \n",
       "..                           ...         ...        ...    ...   ...   \n",
       "80           Республика Марий Эл       16688      15047    413    61   \n",
       "81           Магаданская область        9775       8895    179    29   \n",
       "82  Еврейская автономная область        6125       4636    188    39   \n",
       "83     Ненецкий автономный округ        1694       1592     17    10   \n",
       "84    Чукотский автономный округ        1261        934      9     2   \n",
       "\n",
       "    recovered_day  died_day  \n",
       "0            3072        61  \n",
       "1            1972        49  \n",
       "2            1922        29  \n",
       "3             425        25  \n",
       "4             374        26  \n",
       "..            ...       ...  \n",
       "80             51         1  \n",
       "81             18         2  \n",
       "82             37         0  \n",
       "83              2         0  \n",
       "84              8         0  \n",
       "\n",
       "[85 rows x 7 columns]"
      ]
     },
     "execution_count": 3,
     "metadata": {},
     "output_type": "execute_result"
    }
   ],
   "source": [
    "#Создаём DataFrame из данных с сайта стопкоронавирус\n",
    "tr = pd.DataFrame(a)\n",
    "tr = tr.rename(columns={ tr.columns[0]: \"city\", tr.columns[1]: \"identified\", \n",
    "                         tr.columns[2]: \"recovered\", tr.columns[3]: \"died\", \n",
    "                         tr.columns[4]: \"new\", tr.columns[5]: \"recovered_day\", \n",
    "                         tr.columns[6]: \"died_day\" })\n",
    "pd.options.display.max_rows = 15\n",
    "tr"
   ]
  },
  {
   "cell_type": "code",
   "execution_count": 4,
   "metadata": {},
   "outputs": [
    {
     "data": {
      "text/html": [
       "<div>\n",
       "<style scoped>\n",
       "    .dataframe tbody tr th:only-of-type {\n",
       "        vertical-align: middle;\n",
       "    }\n",
       "\n",
       "    .dataframe tbody tr th {\n",
       "        vertical-align: top;\n",
       "    }\n",
       "\n",
       "    .dataframe thead th {\n",
       "        text-align: right;\n",
       "    }\n",
       "</style>\n",
       "<table border=\"1\" class=\"dataframe\">\n",
       "  <thead>\n",
       "    <tr style=\"text-align: right;\">\n",
       "      <th></th>\n",
       "      <th>city</th>\n",
       "      <th>population_density</th>\n",
       "      <th>population</th>\n",
       "      <th>area</th>\n",
       "      <th>federal district</th>\n",
       "    </tr>\n",
       "  </thead>\n",
       "  <tbody>\n",
       "    <tr>\n",
       "      <th>0</th>\n",
       "      <td>Москва</td>\n",
       "      <td>4 956,06</td>\n",
       "      <td>12 692 466</td>\n",
       "      <td>2 561</td>\n",
       "      <td>ЦФО</td>\n",
       "    </tr>\n",
       "    <tr>\n",
       "      <th>1</th>\n",
       "      <td>Санкт-Петербург</td>\n",
       "      <td>3 843,90</td>\n",
       "      <td>5 392 992</td>\n",
       "      <td>1 403</td>\n",
       "      <td>СЗФО</td>\n",
       "    </tr>\n",
       "    <tr>\n",
       "      <th>2</th>\n",
       "      <td>Севастополь</td>\n",
       "      <td>51948</td>\n",
       "      <td>448 829</td>\n",
       "      <td>864.0</td>\n",
       "      <td>ЮФО</td>\n",
       "    </tr>\n",
       "    <tr>\n",
       "      <th>3</th>\n",
       "      <td>Московская область</td>\n",
       "      <td>17342</td>\n",
       "      <td>7 687 647</td>\n",
       "      <td>44 329</td>\n",
       "      <td>ЦФО</td>\n",
       "    </tr>\n",
       "    <tr>\n",
       "      <th>4</th>\n",
       "      <td>Республика Ингушетия</td>\n",
       "      <td>16224</td>\n",
       "      <td>506 688</td>\n",
       "      <td>3 123</td>\n",
       "      <td>СКФО</td>\n",
       "    </tr>\n",
       "    <tr>\n",
       "      <th>...</th>\n",
       "      <td>...</td>\n",
       "      <td>...</td>\n",
       "      <td>...</td>\n",
       "      <td>...</td>\n",
       "      <td>...</td>\n",
       "    </tr>\n",
       "    <tr>\n",
       "      <th>83</th>\n",
       "      <td>Камчатский край</td>\n",
       "      <td>067</td>\n",
       "      <td>312 438</td>\n",
       "      <td>464 275</td>\n",
       "      <td>ДВФО</td>\n",
       "    </tr>\n",
       "    <tr>\n",
       "      <th>84</th>\n",
       "      <td>Республика Саха (Якутия)</td>\n",
       "      <td>031</td>\n",
       "      <td>970 105</td>\n",
       "      <td>3 083 523</td>\n",
       "      <td>ДВФО</td>\n",
       "    </tr>\n",
       "    <tr>\n",
       "      <th>85</th>\n",
       "      <td>Магаданская область</td>\n",
       "      <td>030</td>\n",
       "      <td>140 199</td>\n",
       "      <td>462 464</td>\n",
       "      <td>ДВФО</td>\n",
       "    </tr>\n",
       "    <tr>\n",
       "      <th>86</th>\n",
       "      <td>Ненецкий автономный округ</td>\n",
       "      <td>025</td>\n",
       "      <td>44 110</td>\n",
       "      <td>176 810</td>\n",
       "      <td>СЗФО</td>\n",
       "    </tr>\n",
       "    <tr>\n",
       "      <th>87</th>\n",
       "      <td>Чукотский автономный округ</td>\n",
       "      <td>007</td>\n",
       "      <td>50 726</td>\n",
       "      <td>721 481</td>\n",
       "      <td>ДВФО</td>\n",
       "    </tr>\n",
       "  </tbody>\n",
       "</table>\n",
       "<p>88 rows × 5 columns</p>\n",
       "</div>"
      ],
      "text/plain": [
       "                          city population_density  population       area  \\\n",
       "0                       Москва           4 956,06  12 692 466      2 561   \n",
       "1              Санкт-Петербург           3 843,90   5 392 992      1 403   \n",
       "2                  Севастополь              51948     448 829      864.0   \n",
       "3           Московская область              17342   7 687 647     44 329   \n",
       "4         Республика Ингушетия              16224     506 688      3 123   \n",
       "..                         ...                ...         ...        ...   \n",
       "83             Камчатский край                067     312 438    464 275   \n",
       "84    Республика Саха (Якутия)                031     970 105  3 083 523   \n",
       "85         Магаданская область                030     140 199    462 464   \n",
       "86   Ненецкий автономный округ                025      44 110    176 810   \n",
       "87  Чукотский автономный округ                007      50 726    721 481   \n",
       "\n",
       "   federal district  \n",
       "0               ЦФО  \n",
       "1              СЗФО  \n",
       "2               ЮФО  \n",
       "3               ЦФО  \n",
       "4              СКФО  \n",
       "..              ...  \n",
       "83             ДВФО  \n",
       "84             ДВФО  \n",
       "85             ДВФО  \n",
       "86             СЗФО  \n",
       "87             ДВФО  \n",
       "\n",
       "[88 rows x 5 columns]"
      ]
     },
     "execution_count": 4,
     "metadata": {},
     "output_type": "execute_result"
    }
   ],
   "source": [
    "#Создаём DataFrame из данных с сайта www.statdata.ru \n",
    "dr = pd.read_html('http://www.statdata.ru/nasel_regions', header=0)[6]\n",
    "dr = dr.rename(columns={ dr.columns[1]: \"city\", dr.columns[2]: \"population_density\", \n",
    "                         dr.columns[3]: \"population\", dr.columns[4]: \"area\", \n",
    "                         dr.columns[5]: \"federal district\" })\n",
    "dr = dr.iloc[:, 1:6]\n",
    "dr"
   ]
  },
  {
   "cell_type": "code",
   "execution_count": 5,
   "metadata": {},
   "outputs": [],
   "source": [
    "#Объединяем DataFrame\n",
    "new_tr = tr.merge(dr, how=\"inner\", left_index=False, right_index=False)"
   ]
  },
  {
   "cell_type": "code",
   "execution_count": 6,
   "metadata": {},
   "outputs": [
    {
     "data": {
      "text/html": [
       "<div>\n",
       "<style scoped>\n",
       "    .dataframe tbody tr th:only-of-type {\n",
       "        vertical-align: middle;\n",
       "    }\n",
       "\n",
       "    .dataframe tbody tr th {\n",
       "        vertical-align: top;\n",
       "    }\n",
       "\n",
       "    .dataframe thead th {\n",
       "        text-align: right;\n",
       "    }\n",
       "</style>\n",
       "<table border=\"1\" class=\"dataframe\">\n",
       "  <thead>\n",
       "    <tr style=\"text-align: right;\">\n",
       "      <th></th>\n",
       "      <th>city</th>\n",
       "      <th>identified</th>\n",
       "      <th>recovered</th>\n",
       "      <th>died</th>\n",
       "      <th>new</th>\n",
       "      <th>recovered_day</th>\n",
       "      <th>died_day</th>\n",
       "      <th>population_density</th>\n",
       "      <th>population</th>\n",
       "      <th>area</th>\n",
       "      <th>federal district</th>\n",
       "      <th>total</th>\n",
       "    </tr>\n",
       "  </thead>\n",
       "  <tbody>\n",
       "    <tr>\n",
       "      <th>0</th>\n",
       "      <td>Москва</td>\n",
       "      <td>1530989</td>\n",
       "      <td>1395285</td>\n",
       "      <td>26309</td>\n",
       "      <td>1639</td>\n",
       "      <td>3072</td>\n",
       "      <td>61</td>\n",
       "      <td>4956,06</td>\n",
       "      <td>12692466</td>\n",
       "      <td>2561</td>\n",
       "      <td>ЦФО</td>\n",
       "      <td>0.012913</td>\n",
       "    </tr>\n",
       "    <tr>\n",
       "      <th>1</th>\n",
       "      <td>Санкт-Петербург</td>\n",
       "      <td>547704</td>\n",
       "      <td>519868</td>\n",
       "      <td>19757</td>\n",
       "      <td>1811</td>\n",
       "      <td>1972</td>\n",
       "      <td>49</td>\n",
       "      <td>3843,90</td>\n",
       "      <td>5392992</td>\n",
       "      <td>1403</td>\n",
       "      <td>СЗФО</td>\n",
       "      <td>0.033581</td>\n",
       "    </tr>\n",
       "    <tr>\n",
       "      <th>2</th>\n",
       "      <td>Московскаяобласть</td>\n",
       "      <td>400007</td>\n",
       "      <td>330540</td>\n",
       "      <td>7491</td>\n",
       "      <td>1309</td>\n",
       "      <td>1922</td>\n",
       "      <td>29</td>\n",
       "      <td>17342</td>\n",
       "      <td>7687647</td>\n",
       "      <td>44329</td>\n",
       "      <td>ЦФО</td>\n",
       "      <td>0.017027</td>\n",
       "    </tr>\n",
       "    <tr>\n",
       "      <th>3</th>\n",
       "      <td>Нижегородскаяобласть</td>\n",
       "      <td>145993</td>\n",
       "      <td>132727</td>\n",
       "      <td>5325</td>\n",
       "      <td>537</td>\n",
       "      <td>425</td>\n",
       "      <td>25</td>\n",
       "      <td>4181</td>\n",
       "      <td>3203818</td>\n",
       "      <td>76624</td>\n",
       "      <td>ПФО</td>\n",
       "      <td>0.016761</td>\n",
       "    </tr>\n",
       "    <tr>\n",
       "      <th>4</th>\n",
       "      <td>Ростовскаяобласть</td>\n",
       "      <td>114218</td>\n",
       "      <td>100373</td>\n",
       "      <td>5412</td>\n",
       "      <td>479</td>\n",
       "      <td>374</td>\n",
       "      <td>26</td>\n",
       "      <td>4155</td>\n",
       "      <td>4195327</td>\n",
       "      <td>100967</td>\n",
       "      <td>ЮФО</td>\n",
       "      <td>0.011417</td>\n",
       "    </tr>\n",
       "    <tr>\n",
       "      <th>...</th>\n",
       "      <td>...</td>\n",
       "      <td>...</td>\n",
       "      <td>...</td>\n",
       "      <td>...</td>\n",
       "      <td>...</td>\n",
       "      <td>...</td>\n",
       "      <td>...</td>\n",
       "      <td>...</td>\n",
       "      <td>...</td>\n",
       "      <td>...</td>\n",
       "      <td>...</td>\n",
       "      <td>...</td>\n",
       "    </tr>\n",
       "    <tr>\n",
       "      <th>68</th>\n",
       "      <td>РеспубликаАдыгея</td>\n",
       "      <td>16870</td>\n",
       "      <td>15432</td>\n",
       "      <td>305</td>\n",
       "      <td>61</td>\n",
       "      <td>15</td>\n",
       "      <td>2</td>\n",
       "      <td>5948</td>\n",
       "      <td>463453</td>\n",
       "      <td>7792</td>\n",
       "      <td>ЮФО</td>\n",
       "      <td>0.013162</td>\n",
       "    </tr>\n",
       "    <tr>\n",
       "      <th>69</th>\n",
       "      <td>РеспубликаМарийЭл</td>\n",
       "      <td>16688</td>\n",
       "      <td>15047</td>\n",
       "      <td>413</td>\n",
       "      <td>61</td>\n",
       "      <td>51</td>\n",
       "      <td>1</td>\n",
       "      <td>2905</td>\n",
       "      <td>679094</td>\n",
       "      <td>23375</td>\n",
       "      <td>ПФО</td>\n",
       "      <td>0.008983</td>\n",
       "    </tr>\n",
       "    <tr>\n",
       "      <th>70</th>\n",
       "      <td>Магаданскаяобласть</td>\n",
       "      <td>9775</td>\n",
       "      <td>8895</td>\n",
       "      <td>179</td>\n",
       "      <td>29</td>\n",
       "      <td>18</td>\n",
       "      <td>2</td>\n",
       "      <td>030</td>\n",
       "      <td>140199</td>\n",
       "      <td>462464</td>\n",
       "      <td>ДВФО</td>\n",
       "      <td>0.020685</td>\n",
       "    </tr>\n",
       "    <tr>\n",
       "      <th>71</th>\n",
       "      <td>Ненецкийавтономныйокруг</td>\n",
       "      <td>1694</td>\n",
       "      <td>1592</td>\n",
       "      <td>17</td>\n",
       "      <td>10</td>\n",
       "      <td>2</td>\n",
       "      <td>0</td>\n",
       "      <td>025</td>\n",
       "      <td>44110</td>\n",
       "      <td>176810</td>\n",
       "      <td>СЗФО</td>\n",
       "      <td>0.022671</td>\n",
       "    </tr>\n",
       "    <tr>\n",
       "      <th>72</th>\n",
       "      <td>Чукотскийавтономныйокруг</td>\n",
       "      <td>1261</td>\n",
       "      <td>934</td>\n",
       "      <td>9</td>\n",
       "      <td>2</td>\n",
       "      <td>8</td>\n",
       "      <td>0</td>\n",
       "      <td>007</td>\n",
       "      <td>50726</td>\n",
       "      <td>721481</td>\n",
       "      <td>ДВФО</td>\n",
       "      <td>0.003943</td>\n",
       "    </tr>\n",
       "  </tbody>\n",
       "</table>\n",
       "<p>73 rows × 12 columns</p>\n",
       "</div>"
      ],
      "text/plain": [
       "                        city  identified  recovered   died   new  \\\n",
       "0                     Москва     1530989    1395285  26309  1639   \n",
       "1            Санкт-Петербург      547704     519868  19757  1811   \n",
       "2          Московскаяобласть      400007     330540   7491  1309   \n",
       "3       Нижегородскаяобласть      145993     132727   5325   537   \n",
       "4          Ростовскаяобласть      114218     100373   5412   479   \n",
       "..                       ...         ...        ...    ...   ...   \n",
       "68          РеспубликаАдыгея       16870      15432    305    61   \n",
       "69         РеспубликаМарийЭл       16688      15047    413    61   \n",
       "70        Магаданскаяобласть        9775       8895    179    29   \n",
       "71   Ненецкийавтономныйокруг        1694       1592     17    10   \n",
       "72  Чукотскийавтономныйокруг        1261        934      9     2   \n",
       "\n",
       "    recovered_day  died_day population_density  population    area  \\\n",
       "0            3072        61            4956,06    12692466    2561   \n",
       "1            1972        49            3843,90     5392992    1403   \n",
       "2            1922        29              17342     7687647   44329   \n",
       "3             425        25               4181     3203818   76624   \n",
       "4             374        26               4155     4195327  100967   \n",
       "..            ...       ...                ...         ...     ...   \n",
       "68             15         2               5948      463453    7792   \n",
       "69             51         1               2905      679094   23375   \n",
       "70             18         2                030      140199  462464   \n",
       "71              2         0                025       44110  176810   \n",
       "72              8         0                007       50726  721481   \n",
       "\n",
       "   federal district     total  \n",
       "0               ЦФО  0.012913  \n",
       "1              СЗФО  0.033581  \n",
       "2               ЦФО  0.017027  \n",
       "3               ПФО  0.016761  \n",
       "4               ЮФО  0.011417  \n",
       "..              ...       ...  \n",
       "68              ЮФО  0.013162  \n",
       "69              ПФО  0.008983  \n",
       "70             ДВФО  0.020685  \n",
       "71             СЗФО  0.022671  \n",
       "72             ДВФО  0.003943  \n",
       "\n",
       "[73 rows x 12 columns]"
      ]
     },
     "execution_count": 6,
     "metadata": {},
     "output_type": "execute_result"
    }
   ],
   "source": [
    "# total - рассчитываем, \"Средняя\" вероятность заболеть = заболевшие за день/количество населения * 100%\n",
    "new_tr = new_tr.replace(r'\\s+','',regex=True)\n",
    "new_tr['population'] = pd.to_numeric(new_tr['population'].str.replace('\\D', ''), errors='coerce')\n",
    "new_tr['total'] = (new_tr.new / new_tr.population)*100\n",
    "new_tr"
   ]
  },
  {
   "cell_type": "code",
   "execution_count": 33,
   "metadata": {},
   "outputs": [
    {
     "data": {
      "text/html": [
       "<div>\n",
       "<style scoped>\n",
       "    .dataframe tbody tr th:only-of-type {\n",
       "        vertical-align: middle;\n",
       "    }\n",
       "\n",
       "    .dataframe tbody tr th {\n",
       "        vertical-align: top;\n",
       "    }\n",
       "\n",
       "    .dataframe thead th {\n",
       "        text-align: right;\n",
       "    }\n",
       "</style>\n",
       "<table border=\"1\" class=\"dataframe\">\n",
       "  <thead>\n",
       "    <tr style=\"text-align: right;\">\n",
       "      <th></th>\n",
       "      <th>city</th>\n",
       "      <th>population_density</th>\n",
       "      <th>new</th>\n",
       "      <th>pgsp</th>\n",
       "    </tr>\n",
       "  </thead>\n",
       "  <tbody>\n",
       "    <tr>\n",
       "      <th>0</th>\n",
       "      <td>Москва</td>\n",
       "      <td>495606</td>\n",
       "      <td>1639</td>\n",
       "      <td>0.330706</td>\n",
       "    </tr>\n",
       "    <tr>\n",
       "      <th>1</th>\n",
       "      <td>Санкт-Петербург</td>\n",
       "      <td>384390</td>\n",
       "      <td>1811</td>\n",
       "      <td>0.471136</td>\n",
       "    </tr>\n",
       "    <tr>\n",
       "      <th>2</th>\n",
       "      <td>Московскаяобласть</td>\n",
       "      <td>17342</td>\n",
       "      <td>1309</td>\n",
       "      <td>7.548149</td>\n",
       "    </tr>\n",
       "    <tr>\n",
       "      <th>3</th>\n",
       "      <td>Нижегородскаяобласть</td>\n",
       "      <td>4181</td>\n",
       "      <td>537</td>\n",
       "      <td>12.843817</td>\n",
       "    </tr>\n",
       "    <tr>\n",
       "      <th>4</th>\n",
       "      <td>Ростовскаяобласть</td>\n",
       "      <td>4155</td>\n",
       "      <td>479</td>\n",
       "      <td>11.528279</td>\n",
       "    </tr>\n",
       "    <tr>\n",
       "      <th>...</th>\n",
       "      <td>...</td>\n",
       "      <td>...</td>\n",
       "      <td>...</td>\n",
       "      <td>...</td>\n",
       "    </tr>\n",
       "    <tr>\n",
       "      <th>68</th>\n",
       "      <td>РеспубликаАдыгея</td>\n",
       "      <td>5948</td>\n",
       "      <td>61</td>\n",
       "      <td>1.025555</td>\n",
       "    </tr>\n",
       "    <tr>\n",
       "      <th>69</th>\n",
       "      <td>РеспубликаМарийЭл</td>\n",
       "      <td>2905</td>\n",
       "      <td>61</td>\n",
       "      <td>2.099828</td>\n",
       "    </tr>\n",
       "    <tr>\n",
       "      <th>70</th>\n",
       "      <td>Магаданскаяобласть</td>\n",
       "      <td>30</td>\n",
       "      <td>29</td>\n",
       "      <td>96.666667</td>\n",
       "    </tr>\n",
       "    <tr>\n",
       "      <th>71</th>\n",
       "      <td>Ненецкийавтономныйокруг</td>\n",
       "      <td>25</td>\n",
       "      <td>10</td>\n",
       "      <td>40.000000</td>\n",
       "    </tr>\n",
       "    <tr>\n",
       "      <th>72</th>\n",
       "      <td>Чукотскийавтономныйокруг</td>\n",
       "      <td>7</td>\n",
       "      <td>2</td>\n",
       "      <td>28.571429</td>\n",
       "    </tr>\n",
       "  </tbody>\n",
       "</table>\n",
       "<p>73 rows × 4 columns</p>\n",
       "</div>"
      ],
      "text/plain": [
       "                        city  population_density   new       pgsp\n",
       "0                     Москва              495606  1639   0.330706\n",
       "1            Санкт-Петербург              384390  1811   0.471136\n",
       "2          Московскаяобласть               17342  1309   7.548149\n",
       "3       Нижегородскаяобласть                4181   537  12.843817\n",
       "4          Ростовскаяобласть                4155   479  11.528279\n",
       "..                       ...                 ...   ...        ...\n",
       "68          РеспубликаАдыгея                5948    61   1.025555\n",
       "69         РеспубликаМарийЭл                2905    61   2.099828\n",
       "70        Магаданскаяобласть                  30    29  96.666667\n",
       "71   Ненецкийавтономныйокруг                  25    10  40.000000\n",
       "72  Чукотскийавтономныйокруг                   7     2  28.571429\n",
       "\n",
       "[73 rows x 4 columns]"
      ]
     },
     "execution_count": 33,
     "metadata": {},
     "output_type": "execute_result"
    }
   ],
   "source": [
    "#percentage got sick\n",
    "pgs = new_tr[['city', 'population_density', 'new']]\n",
    "pgs = pgs.replace(r'\\s+','',regex=True)\n",
    "pgs['population_density'] = pd.to_numeric(pgs['population_density'].str.replace('\\D', ''), errors='coerce')\n",
    "pgs['pgsp'] = (pgs.new / pgs.population_density)*100\n",
    "pgs\n"
   ]
  },
  {
   "cell_type": "code",
   "execution_count": 34,
   "metadata": {},
   "outputs": [
    {
     "data": {
      "application/vnd.plotly.v1+json": {
       "config": {
        "plotlyServerURL": "https://plot.ly"
       },
       "data": [
        {
         "alignmentgroup": "True",
         "bingroup": "x",
         "histfunc": "sum",
         "hovertemplate": "city=%{x}<br>sum of pgsp=%{y}<extra></extra>",
         "legendgroup": "",
         "marker": {
          "color": "#636efa",
          "pattern": {
           "shape": ""
          }
         },
         "name": "",
         "offsetgroup": "",
         "orientation": "v",
         "showlegend": false,
         "type": "histogram",
         "x": [
          "Москва",
          "Санкт-Петербург",
          "Московскаяобласть",
          "Нижегородскаяобласть",
          "Ростовскаяобласть",
          "Свердловскаяобласть",
          "Воронежскаяобласть",
          "Красноярскийкрай",
          "Иркутскаяобласть",
          "Самарскаяобласть",
          "Пермскийкрай",
          "Саратовскаяобласть",
          "Волгоградскаяобласть",
          "Хабаровскийкрай",
          "Ульяновскаяобласть",
          "Ставропольскийкрай",
          "Омскаяобласть",
          "Алтайскийкрай",
          "Мурманскаяобласть",
          "РеспубликаКрым",
          "Краснодарскийкрай",
          "Оренбургскаяобласть",
          "Забайкальскийкрай",
          "Пензенскаяобласть",
          "Ленинградскаяобласть",
          "РеспубликаКоми",
          "РеспубликаКарелия",
          "Приморскийкрай",
          "Вологодскаяобласть",
          "Брянскаяобласть",
          "Тверскаяобласть",
          "Новосибирскаяобласть",
          "Ярославскаяобласть",
          "Кировскаяобласть",
          "Тульскаяобласть",
          "Курскаяобласть",
          "Кемеровскаяобласть",
          "Астраханскаяобласть",
          "Белгородскаяобласть",
          "РеспубликаСаха(Якутия)",
          "Владимирскаяобласть",
          "Калининградскаяобласть",
          "Псковскаяобласть",
          "РеспубликаДагестан",
          "Смоленскаяобласть",
          "Ивановскаяобласть",
          "Калужскаяобласть",
          "Липецкаяобласть",
          "УдмуртскаяРеспублика",
          "Орловскаяобласть",
          "Тамбовскаяобласть",
          "Томскаяобласть",
          "Новгородскаяобласть",
          "Рязанскаяобласть",
          "РеспубликаХакасия",
          "Амурскаяобласть",
          "Костромскаяобласть",
          "Сахалинскаяобласть",
          "Курганскаяобласть",
          "РеспубликаКалмыкия",
          "РеспубликаМордовия",
          "РеспубликаТатарстан",
          "РеспубликаТыва",
          "Севастополь",
          "РеспубликаАлтай",
          "РеспубликаИнгушетия",
          "Камчатскийкрай",
          "ЧеченскаяРеспублика",
          "РеспубликаАдыгея",
          "РеспубликаМарийЭл",
          "Магаданскаяобласть",
          "Ненецкийавтономныйокруг",
          "Чукотскийавтономныйокруг"
         ],
         "xaxis": "x",
         "y": [
          0.33070624649419095,
          0.47113608574624727,
          7.548149002421865,
          12.84381726859603,
          11.528279181708784,
          23.34384858044164,
          10.516853932584269,
          383.4710743801653,
          127.18446601941748,
          7.565290648694186,
          29.34648581997534,
          10.451505016722408,
          14.90711372904395,
          191.61676646706587,
          8.224977320834594,
          7.90653764455983,
          28.35164835164835,
          19.86947063089195,
          44.53125,
          5.374437320965762,
          3.4166445094389792,
          22.39089184060721,
          105.3061224489796,
          7.940199335548173,
          10.37567084078712,
          141.6243654822335,
          50.882352941176464,
          22.06776715899218,
          27.93017456359102,
          6.664717918737212,
          16.03206412825651,
          12.579415501905972,
          5.687066974595843,
          11.916110581506196,
          2.294622525836399,
          5.2216480826760945,
          6.988472622478387,
          13.986354775828461,
          2.6827985270910046,
          448.3870967741935,
          4.303147077713552,
          2.7491408934707904,
          9.380530973451327,
          3.3123283244465984,
          6.443024494142705,
          2.5795356835769563,
          3.8106579339089017,
          5.022156573116692,
          5.743905855982067,
          3.326612903225806,
          3.0800821355236137,
          35.8600583090379,
          11.608775137111516,
          4.357142857142858,
          19.470046082949306,
          64.6788990825688,
          12.832699619771862,
          19.786096256684495,
          10.97666378565255,
          30.57851239669421,
          2.345556656755864,
          0.8518776077885953,
          63.91752577319587,
          0.4215754215754216,
          17.29957805907173,
          0.3759861932938856,
          82.08955223880598,
          1.5435139573070606,
          1.0255548083389374,
          2.099827882960413,
          96.66666666666667,
          40,
          28.57142857142857
         ],
         "yaxis": "y"
        }
       ],
       "layout": {
        "barmode": "relative",
        "legend": {
         "tracegroupgap": 0
        },
        "margin": {
         "t": 60
        },
        "template": {
         "data": {
          "bar": [
           {
            "error_x": {
             "color": "#2a3f5f"
            },
            "error_y": {
             "color": "#2a3f5f"
            },
            "marker": {
             "line": {
              "color": "#E5ECF6",
              "width": 0.5
             },
             "pattern": {
              "fillmode": "overlay",
              "size": 10,
              "solidity": 0.2
             }
            },
            "type": "bar"
           }
          ],
          "barpolar": [
           {
            "marker": {
             "line": {
              "color": "#E5ECF6",
              "width": 0.5
             },
             "pattern": {
              "fillmode": "overlay",
              "size": 10,
              "solidity": 0.2
             }
            },
            "type": "barpolar"
           }
          ],
          "carpet": [
           {
            "aaxis": {
             "endlinecolor": "#2a3f5f",
             "gridcolor": "white",
             "linecolor": "white",
             "minorgridcolor": "white",
             "startlinecolor": "#2a3f5f"
            },
            "baxis": {
             "endlinecolor": "#2a3f5f",
             "gridcolor": "white",
             "linecolor": "white",
             "minorgridcolor": "white",
             "startlinecolor": "#2a3f5f"
            },
            "type": "carpet"
           }
          ],
          "choropleth": [
           {
            "colorbar": {
             "outlinewidth": 0,
             "ticks": ""
            },
            "type": "choropleth"
           }
          ],
          "contour": [
           {
            "colorbar": {
             "outlinewidth": 0,
             "ticks": ""
            },
            "colorscale": [
             [
              0,
              "#0d0887"
             ],
             [
              0.1111111111111111,
              "#46039f"
             ],
             [
              0.2222222222222222,
              "#7201a8"
             ],
             [
              0.3333333333333333,
              "#9c179e"
             ],
             [
              0.4444444444444444,
              "#bd3786"
             ],
             [
              0.5555555555555556,
              "#d8576b"
             ],
             [
              0.6666666666666666,
              "#ed7953"
             ],
             [
              0.7777777777777778,
              "#fb9f3a"
             ],
             [
              0.8888888888888888,
              "#fdca26"
             ],
             [
              1,
              "#f0f921"
             ]
            ],
            "type": "contour"
           }
          ],
          "contourcarpet": [
           {
            "colorbar": {
             "outlinewidth": 0,
             "ticks": ""
            },
            "type": "contourcarpet"
           }
          ],
          "heatmap": [
           {
            "colorbar": {
             "outlinewidth": 0,
             "ticks": ""
            },
            "colorscale": [
             [
              0,
              "#0d0887"
             ],
             [
              0.1111111111111111,
              "#46039f"
             ],
             [
              0.2222222222222222,
              "#7201a8"
             ],
             [
              0.3333333333333333,
              "#9c179e"
             ],
             [
              0.4444444444444444,
              "#bd3786"
             ],
             [
              0.5555555555555556,
              "#d8576b"
             ],
             [
              0.6666666666666666,
              "#ed7953"
             ],
             [
              0.7777777777777778,
              "#fb9f3a"
             ],
             [
              0.8888888888888888,
              "#fdca26"
             ],
             [
              1,
              "#f0f921"
             ]
            ],
            "type": "heatmap"
           }
          ],
          "heatmapgl": [
           {
            "colorbar": {
             "outlinewidth": 0,
             "ticks": ""
            },
            "colorscale": [
             [
              0,
              "#0d0887"
             ],
             [
              0.1111111111111111,
              "#46039f"
             ],
             [
              0.2222222222222222,
              "#7201a8"
             ],
             [
              0.3333333333333333,
              "#9c179e"
             ],
             [
              0.4444444444444444,
              "#bd3786"
             ],
             [
              0.5555555555555556,
              "#d8576b"
             ],
             [
              0.6666666666666666,
              "#ed7953"
             ],
             [
              0.7777777777777778,
              "#fb9f3a"
             ],
             [
              0.8888888888888888,
              "#fdca26"
             ],
             [
              1,
              "#f0f921"
             ]
            ],
            "type": "heatmapgl"
           }
          ],
          "histogram": [
           {
            "marker": {
             "pattern": {
              "fillmode": "overlay",
              "size": 10,
              "solidity": 0.2
             }
            },
            "type": "histogram"
           }
          ],
          "histogram2d": [
           {
            "colorbar": {
             "outlinewidth": 0,
             "ticks": ""
            },
            "colorscale": [
             [
              0,
              "#0d0887"
             ],
             [
              0.1111111111111111,
              "#46039f"
             ],
             [
              0.2222222222222222,
              "#7201a8"
             ],
             [
              0.3333333333333333,
              "#9c179e"
             ],
             [
              0.4444444444444444,
              "#bd3786"
             ],
             [
              0.5555555555555556,
              "#d8576b"
             ],
             [
              0.6666666666666666,
              "#ed7953"
             ],
             [
              0.7777777777777778,
              "#fb9f3a"
             ],
             [
              0.8888888888888888,
              "#fdca26"
             ],
             [
              1,
              "#f0f921"
             ]
            ],
            "type": "histogram2d"
           }
          ],
          "histogram2dcontour": [
           {
            "colorbar": {
             "outlinewidth": 0,
             "ticks": ""
            },
            "colorscale": [
             [
              0,
              "#0d0887"
             ],
             [
              0.1111111111111111,
              "#46039f"
             ],
             [
              0.2222222222222222,
              "#7201a8"
             ],
             [
              0.3333333333333333,
              "#9c179e"
             ],
             [
              0.4444444444444444,
              "#bd3786"
             ],
             [
              0.5555555555555556,
              "#d8576b"
             ],
             [
              0.6666666666666666,
              "#ed7953"
             ],
             [
              0.7777777777777778,
              "#fb9f3a"
             ],
             [
              0.8888888888888888,
              "#fdca26"
             ],
             [
              1,
              "#f0f921"
             ]
            ],
            "type": "histogram2dcontour"
           }
          ],
          "mesh3d": [
           {
            "colorbar": {
             "outlinewidth": 0,
             "ticks": ""
            },
            "type": "mesh3d"
           }
          ],
          "parcoords": [
           {
            "line": {
             "colorbar": {
              "outlinewidth": 0,
              "ticks": ""
             }
            },
            "type": "parcoords"
           }
          ],
          "pie": [
           {
            "automargin": true,
            "type": "pie"
           }
          ],
          "scatter": [
           {
            "marker": {
             "colorbar": {
              "outlinewidth": 0,
              "ticks": ""
             }
            },
            "type": "scatter"
           }
          ],
          "scatter3d": [
           {
            "line": {
             "colorbar": {
              "outlinewidth": 0,
              "ticks": ""
             }
            },
            "marker": {
             "colorbar": {
              "outlinewidth": 0,
              "ticks": ""
             }
            },
            "type": "scatter3d"
           }
          ],
          "scattercarpet": [
           {
            "marker": {
             "colorbar": {
              "outlinewidth": 0,
              "ticks": ""
             }
            },
            "type": "scattercarpet"
           }
          ],
          "scattergeo": [
           {
            "marker": {
             "colorbar": {
              "outlinewidth": 0,
              "ticks": ""
             }
            },
            "type": "scattergeo"
           }
          ],
          "scattergl": [
           {
            "marker": {
             "colorbar": {
              "outlinewidth": 0,
              "ticks": ""
             }
            },
            "type": "scattergl"
           }
          ],
          "scattermapbox": [
           {
            "marker": {
             "colorbar": {
              "outlinewidth": 0,
              "ticks": ""
             }
            },
            "type": "scattermapbox"
           }
          ],
          "scatterpolar": [
           {
            "marker": {
             "colorbar": {
              "outlinewidth": 0,
              "ticks": ""
             }
            },
            "type": "scatterpolar"
           }
          ],
          "scatterpolargl": [
           {
            "marker": {
             "colorbar": {
              "outlinewidth": 0,
              "ticks": ""
             }
            },
            "type": "scatterpolargl"
           }
          ],
          "scatterternary": [
           {
            "marker": {
             "colorbar": {
              "outlinewidth": 0,
              "ticks": ""
             }
            },
            "type": "scatterternary"
           }
          ],
          "surface": [
           {
            "colorbar": {
             "outlinewidth": 0,
             "ticks": ""
            },
            "colorscale": [
             [
              0,
              "#0d0887"
             ],
             [
              0.1111111111111111,
              "#46039f"
             ],
             [
              0.2222222222222222,
              "#7201a8"
             ],
             [
              0.3333333333333333,
              "#9c179e"
             ],
             [
              0.4444444444444444,
              "#bd3786"
             ],
             [
              0.5555555555555556,
              "#d8576b"
             ],
             [
              0.6666666666666666,
              "#ed7953"
             ],
             [
              0.7777777777777778,
              "#fb9f3a"
             ],
             [
              0.8888888888888888,
              "#fdca26"
             ],
             [
              1,
              "#f0f921"
             ]
            ],
            "type": "surface"
           }
          ],
          "table": [
           {
            "cells": {
             "fill": {
              "color": "#EBF0F8"
             },
             "line": {
              "color": "white"
             }
            },
            "header": {
             "fill": {
              "color": "#C8D4E3"
             },
             "line": {
              "color": "white"
             }
            },
            "type": "table"
           }
          ]
         },
         "layout": {
          "annotationdefaults": {
           "arrowcolor": "#2a3f5f",
           "arrowhead": 0,
           "arrowwidth": 1
          },
          "autotypenumbers": "strict",
          "coloraxis": {
           "colorbar": {
            "outlinewidth": 0,
            "ticks": ""
           }
          },
          "colorscale": {
           "diverging": [
            [
             0,
             "#8e0152"
            ],
            [
             0.1,
             "#c51b7d"
            ],
            [
             0.2,
             "#de77ae"
            ],
            [
             0.3,
             "#f1b6da"
            ],
            [
             0.4,
             "#fde0ef"
            ],
            [
             0.5,
             "#f7f7f7"
            ],
            [
             0.6,
             "#e6f5d0"
            ],
            [
             0.7,
             "#b8e186"
            ],
            [
             0.8,
             "#7fbc41"
            ],
            [
             0.9,
             "#4d9221"
            ],
            [
             1,
             "#276419"
            ]
           ],
           "sequential": [
            [
             0,
             "#0d0887"
            ],
            [
             0.1111111111111111,
             "#46039f"
            ],
            [
             0.2222222222222222,
             "#7201a8"
            ],
            [
             0.3333333333333333,
             "#9c179e"
            ],
            [
             0.4444444444444444,
             "#bd3786"
            ],
            [
             0.5555555555555556,
             "#d8576b"
            ],
            [
             0.6666666666666666,
             "#ed7953"
            ],
            [
             0.7777777777777778,
             "#fb9f3a"
            ],
            [
             0.8888888888888888,
             "#fdca26"
            ],
            [
             1,
             "#f0f921"
            ]
           ],
           "sequentialminus": [
            [
             0,
             "#0d0887"
            ],
            [
             0.1111111111111111,
             "#46039f"
            ],
            [
             0.2222222222222222,
             "#7201a8"
            ],
            [
             0.3333333333333333,
             "#9c179e"
            ],
            [
             0.4444444444444444,
             "#bd3786"
            ],
            [
             0.5555555555555556,
             "#d8576b"
            ],
            [
             0.6666666666666666,
             "#ed7953"
            ],
            [
             0.7777777777777778,
             "#fb9f3a"
            ],
            [
             0.8888888888888888,
             "#fdca26"
            ],
            [
             1,
             "#f0f921"
            ]
           ]
          },
          "colorway": [
           "#636efa",
           "#EF553B",
           "#00cc96",
           "#ab63fa",
           "#FFA15A",
           "#19d3f3",
           "#FF6692",
           "#B6E880",
           "#FF97FF",
           "#FECB52"
          ],
          "font": {
           "color": "#2a3f5f"
          },
          "geo": {
           "bgcolor": "white",
           "lakecolor": "white",
           "landcolor": "#E5ECF6",
           "showlakes": true,
           "showland": true,
           "subunitcolor": "white"
          },
          "hoverlabel": {
           "align": "left"
          },
          "hovermode": "closest",
          "mapbox": {
           "style": "light"
          },
          "paper_bgcolor": "white",
          "plot_bgcolor": "#E5ECF6",
          "polar": {
           "angularaxis": {
            "gridcolor": "white",
            "linecolor": "white",
            "ticks": ""
           },
           "bgcolor": "#E5ECF6",
           "radialaxis": {
            "gridcolor": "white",
            "linecolor": "white",
            "ticks": ""
           }
          },
          "scene": {
           "xaxis": {
            "backgroundcolor": "#E5ECF6",
            "gridcolor": "white",
            "gridwidth": 2,
            "linecolor": "white",
            "showbackground": true,
            "ticks": "",
            "zerolinecolor": "white"
           },
           "yaxis": {
            "backgroundcolor": "#E5ECF6",
            "gridcolor": "white",
            "gridwidth": 2,
            "linecolor": "white",
            "showbackground": true,
            "ticks": "",
            "zerolinecolor": "white"
           },
           "zaxis": {
            "backgroundcolor": "#E5ECF6",
            "gridcolor": "white",
            "gridwidth": 2,
            "linecolor": "white",
            "showbackground": true,
            "ticks": "",
            "zerolinecolor": "white"
           }
          },
          "shapedefaults": {
           "line": {
            "color": "#2a3f5f"
           }
          },
          "ternary": {
           "aaxis": {
            "gridcolor": "white",
            "linecolor": "white",
            "ticks": ""
           },
           "baxis": {
            "gridcolor": "white",
            "linecolor": "white",
            "ticks": ""
           },
           "bgcolor": "#E5ECF6",
           "caxis": {
            "gridcolor": "white",
            "linecolor": "white",
            "ticks": ""
           }
          },
          "title": {
           "x": 0.05
          },
          "xaxis": {
           "automargin": true,
           "gridcolor": "white",
           "linecolor": "white",
           "ticks": "",
           "title": {
            "standoff": 15
           },
           "zerolinecolor": "white",
           "zerolinewidth": 2
          },
          "yaxis": {
           "automargin": true,
           "gridcolor": "white",
           "linecolor": "white",
           "ticks": "",
           "title": {
            "standoff": 15
           },
           "zerolinecolor": "white",
           "zerolinewidth": 2
          }
         }
        },
        "xaxis": {
         "anchor": "y",
         "domain": [
          0,
          1
         ],
         "title": {
          "text": "city"
         }
        },
        "yaxis": {
         "anchor": "x",
         "domain": [
          0,
          1
         ],
         "title": {
          "text": "sum of pgsp"
         }
        }
       }
      },
      "text/html": [
       "<div>                            <div id=\"eef0d0b7-2ccc-40d1-9ab4-6ff318ff229d\" class=\"plotly-graph-div\" style=\"height:525px; width:100%;\"></div>            <script type=\"text/javascript\">                require([\"plotly\"], function(Plotly) {                    window.PLOTLYENV=window.PLOTLYENV || {};                                    if (document.getElementById(\"eef0d0b7-2ccc-40d1-9ab4-6ff318ff229d\")) {                    Plotly.newPlot(                        \"eef0d0b7-2ccc-40d1-9ab4-6ff318ff229d\",                        [{\"alignmentgroup\":\"True\",\"bingroup\":\"x\",\"histfunc\":\"sum\",\"hovertemplate\":\"city=%{x}<br>sum of pgsp=%{y}<extra></extra>\",\"legendgroup\":\"\",\"marker\":{\"color\":\"#636efa\",\"pattern\":{\"shape\":\"\"}},\"name\":\"\",\"offsetgroup\":\"\",\"orientation\":\"v\",\"showlegend\":false,\"type\":\"histogram\",\"x\":[\"\\u041c\\u043e\\u0441\\u043a\\u0432\\u0430\",\"\\u0421\\u0430\\u043d\\u043a\\u0442-\\u041f\\u0435\\u0442\\u0435\\u0440\\u0431\\u0443\\u0440\\u0433\",\"\\u041c\\u043e\\u0441\\u043a\\u043e\\u0432\\u0441\\u043a\\u0430\\u044f\\u043e\\u0431\\u043b\\u0430\\u0441\\u0442\\u044c\",\"\\u041d\\u0438\\u0436\\u0435\\u0433\\u043e\\u0440\\u043e\\u0434\\u0441\\u043a\\u0430\\u044f\\u043e\\u0431\\u043b\\u0430\\u0441\\u0442\\u044c\",\"\\u0420\\u043e\\u0441\\u0442\\u043e\\u0432\\u0441\\u043a\\u0430\\u044f\\u043e\\u0431\\u043b\\u0430\\u0441\\u0442\\u044c\",\"\\u0421\\u0432\\u0435\\u0440\\u0434\\u043b\\u043e\\u0432\\u0441\\u043a\\u0430\\u044f\\u043e\\u0431\\u043b\\u0430\\u0441\\u0442\\u044c\",\"\\u0412\\u043e\\u0440\\u043e\\u043d\\u0435\\u0436\\u0441\\u043a\\u0430\\u044f\\u043e\\u0431\\u043b\\u0430\\u0441\\u0442\\u044c\",\"\\u041a\\u0440\\u0430\\u0441\\u043d\\u043e\\u044f\\u0440\\u0441\\u043a\\u0438\\u0439\\u043a\\u0440\\u0430\\u0439\",\"\\u0418\\u0440\\u043a\\u0443\\u0442\\u0441\\u043a\\u0430\\u044f\\u043e\\u0431\\u043b\\u0430\\u0441\\u0442\\u044c\",\"\\u0421\\u0430\\u043c\\u0430\\u0440\\u0441\\u043a\\u0430\\u044f\\u043e\\u0431\\u043b\\u0430\\u0441\\u0442\\u044c\",\"\\u041f\\u0435\\u0440\\u043c\\u0441\\u043a\\u0438\\u0439\\u043a\\u0440\\u0430\\u0439\",\"\\u0421\\u0430\\u0440\\u0430\\u0442\\u043e\\u0432\\u0441\\u043a\\u0430\\u044f\\u043e\\u0431\\u043b\\u0430\\u0441\\u0442\\u044c\",\"\\u0412\\u043e\\u043b\\u0433\\u043e\\u0433\\u0440\\u0430\\u0434\\u0441\\u043a\\u0430\\u044f\\u043e\\u0431\\u043b\\u0430\\u0441\\u0442\\u044c\",\"\\u0425\\u0430\\u0431\\u0430\\u0440\\u043e\\u0432\\u0441\\u043a\\u0438\\u0439\\u043a\\u0440\\u0430\\u0439\",\"\\u0423\\u043b\\u044c\\u044f\\u043d\\u043e\\u0432\\u0441\\u043a\\u0430\\u044f\\u043e\\u0431\\u043b\\u0430\\u0441\\u0442\\u044c\",\"\\u0421\\u0442\\u0430\\u0432\\u0440\\u043e\\u043f\\u043e\\u043b\\u044c\\u0441\\u043a\\u0438\\u0439\\u043a\\u0440\\u0430\\u0439\",\"\\u041e\\u043c\\u0441\\u043a\\u0430\\u044f\\u043e\\u0431\\u043b\\u0430\\u0441\\u0442\\u044c\",\"\\u0410\\u043b\\u0442\\u0430\\u0439\\u0441\\u043a\\u0438\\u0439\\u043a\\u0440\\u0430\\u0439\",\"\\u041c\\u0443\\u0440\\u043c\\u0430\\u043d\\u0441\\u043a\\u0430\\u044f\\u043e\\u0431\\u043b\\u0430\\u0441\\u0442\\u044c\",\"\\u0420\\u0435\\u0441\\u043f\\u0443\\u0431\\u043b\\u0438\\u043a\\u0430\\u041a\\u0440\\u044b\\u043c\",\"\\u041a\\u0440\\u0430\\u0441\\u043d\\u043e\\u0434\\u0430\\u0440\\u0441\\u043a\\u0438\\u0439\\u043a\\u0440\\u0430\\u0439\",\"\\u041e\\u0440\\u0435\\u043d\\u0431\\u0443\\u0440\\u0433\\u0441\\u043a\\u0430\\u044f\\u043e\\u0431\\u043b\\u0430\\u0441\\u0442\\u044c\",\"\\u0417\\u0430\\u0431\\u0430\\u0439\\u043a\\u0430\\u043b\\u044c\\u0441\\u043a\\u0438\\u0439\\u043a\\u0440\\u0430\\u0439\",\"\\u041f\\u0435\\u043d\\u0437\\u0435\\u043d\\u0441\\u043a\\u0430\\u044f\\u043e\\u0431\\u043b\\u0430\\u0441\\u0442\\u044c\",\"\\u041b\\u0435\\u043d\\u0438\\u043d\\u0433\\u0440\\u0430\\u0434\\u0441\\u043a\\u0430\\u044f\\u043e\\u0431\\u043b\\u0430\\u0441\\u0442\\u044c\",\"\\u0420\\u0435\\u0441\\u043f\\u0443\\u0431\\u043b\\u0438\\u043a\\u0430\\u041a\\u043e\\u043c\\u0438\",\"\\u0420\\u0435\\u0441\\u043f\\u0443\\u0431\\u043b\\u0438\\u043a\\u0430\\u041a\\u0430\\u0440\\u0435\\u043b\\u0438\\u044f\",\"\\u041f\\u0440\\u0438\\u043c\\u043e\\u0440\\u0441\\u043a\\u0438\\u0439\\u043a\\u0440\\u0430\\u0439\",\"\\u0412\\u043e\\u043b\\u043e\\u0433\\u043e\\u0434\\u0441\\u043a\\u0430\\u044f\\u043e\\u0431\\u043b\\u0430\\u0441\\u0442\\u044c\",\"\\u0411\\u0440\\u044f\\u043d\\u0441\\u043a\\u0430\\u044f\\u043e\\u0431\\u043b\\u0430\\u0441\\u0442\\u044c\",\"\\u0422\\u0432\\u0435\\u0440\\u0441\\u043a\\u0430\\u044f\\u043e\\u0431\\u043b\\u0430\\u0441\\u0442\\u044c\",\"\\u041d\\u043e\\u0432\\u043e\\u0441\\u0438\\u0431\\u0438\\u0440\\u0441\\u043a\\u0430\\u044f\\u043e\\u0431\\u043b\\u0430\\u0441\\u0442\\u044c\",\"\\u042f\\u0440\\u043e\\u0441\\u043b\\u0430\\u0432\\u0441\\u043a\\u0430\\u044f\\u043e\\u0431\\u043b\\u0430\\u0441\\u0442\\u044c\",\"\\u041a\\u0438\\u0440\\u043e\\u0432\\u0441\\u043a\\u0430\\u044f\\u043e\\u0431\\u043b\\u0430\\u0441\\u0442\\u044c\",\"\\u0422\\u0443\\u043b\\u044c\\u0441\\u043a\\u0430\\u044f\\u043e\\u0431\\u043b\\u0430\\u0441\\u0442\\u044c\",\"\\u041a\\u0443\\u0440\\u0441\\u043a\\u0430\\u044f\\u043e\\u0431\\u043b\\u0430\\u0441\\u0442\\u044c\",\"\\u041a\\u0435\\u043c\\u0435\\u0440\\u043e\\u0432\\u0441\\u043a\\u0430\\u044f\\u043e\\u0431\\u043b\\u0430\\u0441\\u0442\\u044c\",\"\\u0410\\u0441\\u0442\\u0440\\u0430\\u0445\\u0430\\u043d\\u0441\\u043a\\u0430\\u044f\\u043e\\u0431\\u043b\\u0430\\u0441\\u0442\\u044c\",\"\\u0411\\u0435\\u043b\\u0433\\u043e\\u0440\\u043e\\u0434\\u0441\\u043a\\u0430\\u044f\\u043e\\u0431\\u043b\\u0430\\u0441\\u0442\\u044c\",\"\\u0420\\u0435\\u0441\\u043f\\u0443\\u0431\\u043b\\u0438\\u043a\\u0430\\u0421\\u0430\\u0445\\u0430(\\u042f\\u043a\\u0443\\u0442\\u0438\\u044f)\",\"\\u0412\\u043b\\u0430\\u0434\\u0438\\u043c\\u0438\\u0440\\u0441\\u043a\\u0430\\u044f\\u043e\\u0431\\u043b\\u0430\\u0441\\u0442\\u044c\",\"\\u041a\\u0430\\u043b\\u0438\\u043d\\u0438\\u043d\\u0433\\u0440\\u0430\\u0434\\u0441\\u043a\\u0430\\u044f\\u043e\\u0431\\u043b\\u0430\\u0441\\u0442\\u044c\",\"\\u041f\\u0441\\u043a\\u043e\\u0432\\u0441\\u043a\\u0430\\u044f\\u043e\\u0431\\u043b\\u0430\\u0441\\u0442\\u044c\",\"\\u0420\\u0435\\u0441\\u043f\\u0443\\u0431\\u043b\\u0438\\u043a\\u0430\\u0414\\u0430\\u0433\\u0435\\u0441\\u0442\\u0430\\u043d\",\"\\u0421\\u043c\\u043e\\u043b\\u0435\\u043d\\u0441\\u043a\\u0430\\u044f\\u043e\\u0431\\u043b\\u0430\\u0441\\u0442\\u044c\",\"\\u0418\\u0432\\u0430\\u043d\\u043e\\u0432\\u0441\\u043a\\u0430\\u044f\\u043e\\u0431\\u043b\\u0430\\u0441\\u0442\\u044c\",\"\\u041a\\u0430\\u043b\\u0443\\u0436\\u0441\\u043a\\u0430\\u044f\\u043e\\u0431\\u043b\\u0430\\u0441\\u0442\\u044c\",\"\\u041b\\u0438\\u043f\\u0435\\u0446\\u043a\\u0430\\u044f\\u043e\\u0431\\u043b\\u0430\\u0441\\u0442\\u044c\",\"\\u0423\\u0434\\u043c\\u0443\\u0440\\u0442\\u0441\\u043a\\u0430\\u044f\\u0420\\u0435\\u0441\\u043f\\u0443\\u0431\\u043b\\u0438\\u043a\\u0430\",\"\\u041e\\u0440\\u043b\\u043e\\u0432\\u0441\\u043a\\u0430\\u044f\\u043e\\u0431\\u043b\\u0430\\u0441\\u0442\\u044c\",\"\\u0422\\u0430\\u043c\\u0431\\u043e\\u0432\\u0441\\u043a\\u0430\\u044f\\u043e\\u0431\\u043b\\u0430\\u0441\\u0442\\u044c\",\"\\u0422\\u043e\\u043c\\u0441\\u043a\\u0430\\u044f\\u043e\\u0431\\u043b\\u0430\\u0441\\u0442\\u044c\",\"\\u041d\\u043e\\u0432\\u0433\\u043e\\u0440\\u043e\\u0434\\u0441\\u043a\\u0430\\u044f\\u043e\\u0431\\u043b\\u0430\\u0441\\u0442\\u044c\",\"\\u0420\\u044f\\u0437\\u0430\\u043d\\u0441\\u043a\\u0430\\u044f\\u043e\\u0431\\u043b\\u0430\\u0441\\u0442\\u044c\",\"\\u0420\\u0435\\u0441\\u043f\\u0443\\u0431\\u043b\\u0438\\u043a\\u0430\\u0425\\u0430\\u043a\\u0430\\u0441\\u0438\\u044f\",\"\\u0410\\u043c\\u0443\\u0440\\u0441\\u043a\\u0430\\u044f\\u043e\\u0431\\u043b\\u0430\\u0441\\u0442\\u044c\",\"\\u041a\\u043e\\u0441\\u0442\\u0440\\u043e\\u043c\\u0441\\u043a\\u0430\\u044f\\u043e\\u0431\\u043b\\u0430\\u0441\\u0442\\u044c\",\"\\u0421\\u0430\\u0445\\u0430\\u043b\\u0438\\u043d\\u0441\\u043a\\u0430\\u044f\\u043e\\u0431\\u043b\\u0430\\u0441\\u0442\\u044c\",\"\\u041a\\u0443\\u0440\\u0433\\u0430\\u043d\\u0441\\u043a\\u0430\\u044f\\u043e\\u0431\\u043b\\u0430\\u0441\\u0442\\u044c\",\"\\u0420\\u0435\\u0441\\u043f\\u0443\\u0431\\u043b\\u0438\\u043a\\u0430\\u041a\\u0430\\u043b\\u043c\\u044b\\u043a\\u0438\\u044f\",\"\\u0420\\u0435\\u0441\\u043f\\u0443\\u0431\\u043b\\u0438\\u043a\\u0430\\u041c\\u043e\\u0440\\u0434\\u043e\\u0432\\u0438\\u044f\",\"\\u0420\\u0435\\u0441\\u043f\\u0443\\u0431\\u043b\\u0438\\u043a\\u0430\\u0422\\u0430\\u0442\\u0430\\u0440\\u0441\\u0442\\u0430\\u043d\",\"\\u0420\\u0435\\u0441\\u043f\\u0443\\u0431\\u043b\\u0438\\u043a\\u0430\\u0422\\u044b\\u0432\\u0430\",\"\\u0421\\u0435\\u0432\\u0430\\u0441\\u0442\\u043e\\u043f\\u043e\\u043b\\u044c\",\"\\u0420\\u0435\\u0441\\u043f\\u0443\\u0431\\u043b\\u0438\\u043a\\u0430\\u0410\\u043b\\u0442\\u0430\\u0439\",\"\\u0420\\u0435\\u0441\\u043f\\u0443\\u0431\\u043b\\u0438\\u043a\\u0430\\u0418\\u043d\\u0433\\u0443\\u0448\\u0435\\u0442\\u0438\\u044f\",\"\\u041a\\u0430\\u043c\\u0447\\u0430\\u0442\\u0441\\u043a\\u0438\\u0439\\u043a\\u0440\\u0430\\u0439\",\"\\u0427\\u0435\\u0447\\u0435\\u043d\\u0441\\u043a\\u0430\\u044f\\u0420\\u0435\\u0441\\u043f\\u0443\\u0431\\u043b\\u0438\\u043a\\u0430\",\"\\u0420\\u0435\\u0441\\u043f\\u0443\\u0431\\u043b\\u0438\\u043a\\u0430\\u0410\\u0434\\u044b\\u0433\\u0435\\u044f\",\"\\u0420\\u0435\\u0441\\u043f\\u0443\\u0431\\u043b\\u0438\\u043a\\u0430\\u041c\\u0430\\u0440\\u0438\\u0439\\u042d\\u043b\",\"\\u041c\\u0430\\u0433\\u0430\\u0434\\u0430\\u043d\\u0441\\u043a\\u0430\\u044f\\u043e\\u0431\\u043b\\u0430\\u0441\\u0442\\u044c\",\"\\u041d\\u0435\\u043d\\u0435\\u0446\\u043a\\u0438\\u0439\\u0430\\u0432\\u0442\\u043e\\u043d\\u043e\\u043c\\u043d\\u044b\\u0439\\u043e\\u043a\\u0440\\u0443\\u0433\",\"\\u0427\\u0443\\u043a\\u043e\\u0442\\u0441\\u043a\\u0438\\u0439\\u0430\\u0432\\u0442\\u043e\\u043d\\u043e\\u043c\\u043d\\u044b\\u0439\\u043e\\u043a\\u0440\\u0443\\u0433\"],\"xaxis\":\"x\",\"y\":[0.33070624649419095,0.47113608574624727,7.548149002421865,12.84381726859603,11.528279181708784,23.34384858044164,10.516853932584269,383.4710743801653,127.18446601941748,7.565290648694186,29.34648581997534,10.451505016722408,14.90711372904395,191.61676646706587,8.224977320834594,7.90653764455983,28.35164835164835,19.86947063089195,44.53125,5.374437320965762,3.4166445094389792,22.39089184060721,105.3061224489796,7.940199335548173,10.37567084078712,141.6243654822335,50.882352941176464,22.06776715899218,27.93017456359102,6.664717918737212,16.03206412825651,12.579415501905972,5.687066974595843,11.916110581506196,2.294622525836399,5.2216480826760945,6.988472622478387,13.986354775828461,2.6827985270910046,448.3870967741935,4.303147077713552,2.7491408934707904,9.380530973451327,3.3123283244465984,6.443024494142705,2.5795356835769563,3.8106579339089017,5.022156573116692,5.743905855982067,3.326612903225806,3.0800821355236137,35.8600583090379,11.608775137111516,4.357142857142858,19.470046082949306,64.6788990825688,12.832699619771862,19.786096256684495,10.97666378565255,30.57851239669421,2.345556656755864,0.8518776077885953,63.91752577319587,0.4215754215754216,17.29957805907173,0.3759861932938856,82.08955223880598,1.5435139573070606,1.0255548083389374,2.099827882960413,96.66666666666667,40.0,28.57142857142857],\"yaxis\":\"y\"}],                        {\"barmode\":\"relative\",\"legend\":{\"tracegroupgap\":0},\"margin\":{\"t\":60},\"template\":{\"data\":{\"bar\":[{\"error_x\":{\"color\":\"#2a3f5f\"},\"error_y\":{\"color\":\"#2a3f5f\"},\"marker\":{\"line\":{\"color\":\"#E5ECF6\",\"width\":0.5},\"pattern\":{\"fillmode\":\"overlay\",\"size\":10,\"solidity\":0.2}},\"type\":\"bar\"}],\"barpolar\":[{\"marker\":{\"line\":{\"color\":\"#E5ECF6\",\"width\":0.5},\"pattern\":{\"fillmode\":\"overlay\",\"size\":10,\"solidity\":0.2}},\"type\":\"barpolar\"}],\"carpet\":[{\"aaxis\":{\"endlinecolor\":\"#2a3f5f\",\"gridcolor\":\"white\",\"linecolor\":\"white\",\"minorgridcolor\":\"white\",\"startlinecolor\":\"#2a3f5f\"},\"baxis\":{\"endlinecolor\":\"#2a3f5f\",\"gridcolor\":\"white\",\"linecolor\":\"white\",\"minorgridcolor\":\"white\",\"startlinecolor\":\"#2a3f5f\"},\"type\":\"carpet\"}],\"choropleth\":[{\"colorbar\":{\"outlinewidth\":0,\"ticks\":\"\"},\"type\":\"choropleth\"}],\"contour\":[{\"colorbar\":{\"outlinewidth\":0,\"ticks\":\"\"},\"colorscale\":[[0.0,\"#0d0887\"],[0.1111111111111111,\"#46039f\"],[0.2222222222222222,\"#7201a8\"],[0.3333333333333333,\"#9c179e\"],[0.4444444444444444,\"#bd3786\"],[0.5555555555555556,\"#d8576b\"],[0.6666666666666666,\"#ed7953\"],[0.7777777777777778,\"#fb9f3a\"],[0.8888888888888888,\"#fdca26\"],[1.0,\"#f0f921\"]],\"type\":\"contour\"}],\"contourcarpet\":[{\"colorbar\":{\"outlinewidth\":0,\"ticks\":\"\"},\"type\":\"contourcarpet\"}],\"heatmap\":[{\"colorbar\":{\"outlinewidth\":0,\"ticks\":\"\"},\"colorscale\":[[0.0,\"#0d0887\"],[0.1111111111111111,\"#46039f\"],[0.2222222222222222,\"#7201a8\"],[0.3333333333333333,\"#9c179e\"],[0.4444444444444444,\"#bd3786\"],[0.5555555555555556,\"#d8576b\"],[0.6666666666666666,\"#ed7953\"],[0.7777777777777778,\"#fb9f3a\"],[0.8888888888888888,\"#fdca26\"],[1.0,\"#f0f921\"]],\"type\":\"heatmap\"}],\"heatmapgl\":[{\"colorbar\":{\"outlinewidth\":0,\"ticks\":\"\"},\"colorscale\":[[0.0,\"#0d0887\"],[0.1111111111111111,\"#46039f\"],[0.2222222222222222,\"#7201a8\"],[0.3333333333333333,\"#9c179e\"],[0.4444444444444444,\"#bd3786\"],[0.5555555555555556,\"#d8576b\"],[0.6666666666666666,\"#ed7953\"],[0.7777777777777778,\"#fb9f3a\"],[0.8888888888888888,\"#fdca26\"],[1.0,\"#f0f921\"]],\"type\":\"heatmapgl\"}],\"histogram\":[{\"marker\":{\"pattern\":{\"fillmode\":\"overlay\",\"size\":10,\"solidity\":0.2}},\"type\":\"histogram\"}],\"histogram2d\":[{\"colorbar\":{\"outlinewidth\":0,\"ticks\":\"\"},\"colorscale\":[[0.0,\"#0d0887\"],[0.1111111111111111,\"#46039f\"],[0.2222222222222222,\"#7201a8\"],[0.3333333333333333,\"#9c179e\"],[0.4444444444444444,\"#bd3786\"],[0.5555555555555556,\"#d8576b\"],[0.6666666666666666,\"#ed7953\"],[0.7777777777777778,\"#fb9f3a\"],[0.8888888888888888,\"#fdca26\"],[1.0,\"#f0f921\"]],\"type\":\"histogram2d\"}],\"histogram2dcontour\":[{\"colorbar\":{\"outlinewidth\":0,\"ticks\":\"\"},\"colorscale\":[[0.0,\"#0d0887\"],[0.1111111111111111,\"#46039f\"],[0.2222222222222222,\"#7201a8\"],[0.3333333333333333,\"#9c179e\"],[0.4444444444444444,\"#bd3786\"],[0.5555555555555556,\"#d8576b\"],[0.6666666666666666,\"#ed7953\"],[0.7777777777777778,\"#fb9f3a\"],[0.8888888888888888,\"#fdca26\"],[1.0,\"#f0f921\"]],\"type\":\"histogram2dcontour\"}],\"mesh3d\":[{\"colorbar\":{\"outlinewidth\":0,\"ticks\":\"\"},\"type\":\"mesh3d\"}],\"parcoords\":[{\"line\":{\"colorbar\":{\"outlinewidth\":0,\"ticks\":\"\"}},\"type\":\"parcoords\"}],\"pie\":[{\"automargin\":true,\"type\":\"pie\"}],\"scatter\":[{\"marker\":{\"colorbar\":{\"outlinewidth\":0,\"ticks\":\"\"}},\"type\":\"scatter\"}],\"scatter3d\":[{\"line\":{\"colorbar\":{\"outlinewidth\":0,\"ticks\":\"\"}},\"marker\":{\"colorbar\":{\"outlinewidth\":0,\"ticks\":\"\"}},\"type\":\"scatter3d\"}],\"scattercarpet\":[{\"marker\":{\"colorbar\":{\"outlinewidth\":0,\"ticks\":\"\"}},\"type\":\"scattercarpet\"}],\"scattergeo\":[{\"marker\":{\"colorbar\":{\"outlinewidth\":0,\"ticks\":\"\"}},\"type\":\"scattergeo\"}],\"scattergl\":[{\"marker\":{\"colorbar\":{\"outlinewidth\":0,\"ticks\":\"\"}},\"type\":\"scattergl\"}],\"scattermapbox\":[{\"marker\":{\"colorbar\":{\"outlinewidth\":0,\"ticks\":\"\"}},\"type\":\"scattermapbox\"}],\"scatterpolar\":[{\"marker\":{\"colorbar\":{\"outlinewidth\":0,\"ticks\":\"\"}},\"type\":\"scatterpolar\"}],\"scatterpolargl\":[{\"marker\":{\"colorbar\":{\"outlinewidth\":0,\"ticks\":\"\"}},\"type\":\"scatterpolargl\"}],\"scatterternary\":[{\"marker\":{\"colorbar\":{\"outlinewidth\":0,\"ticks\":\"\"}},\"type\":\"scatterternary\"}],\"surface\":[{\"colorbar\":{\"outlinewidth\":0,\"ticks\":\"\"},\"colorscale\":[[0.0,\"#0d0887\"],[0.1111111111111111,\"#46039f\"],[0.2222222222222222,\"#7201a8\"],[0.3333333333333333,\"#9c179e\"],[0.4444444444444444,\"#bd3786\"],[0.5555555555555556,\"#d8576b\"],[0.6666666666666666,\"#ed7953\"],[0.7777777777777778,\"#fb9f3a\"],[0.8888888888888888,\"#fdca26\"],[1.0,\"#f0f921\"]],\"type\":\"surface\"}],\"table\":[{\"cells\":{\"fill\":{\"color\":\"#EBF0F8\"},\"line\":{\"color\":\"white\"}},\"header\":{\"fill\":{\"color\":\"#C8D4E3\"},\"line\":{\"color\":\"white\"}},\"type\":\"table\"}]},\"layout\":{\"annotationdefaults\":{\"arrowcolor\":\"#2a3f5f\",\"arrowhead\":0,\"arrowwidth\":1},\"autotypenumbers\":\"strict\",\"coloraxis\":{\"colorbar\":{\"outlinewidth\":0,\"ticks\":\"\"}},\"colorscale\":{\"diverging\":[[0,\"#8e0152\"],[0.1,\"#c51b7d\"],[0.2,\"#de77ae\"],[0.3,\"#f1b6da\"],[0.4,\"#fde0ef\"],[0.5,\"#f7f7f7\"],[0.6,\"#e6f5d0\"],[0.7,\"#b8e186\"],[0.8,\"#7fbc41\"],[0.9,\"#4d9221\"],[1,\"#276419\"]],\"sequential\":[[0.0,\"#0d0887\"],[0.1111111111111111,\"#46039f\"],[0.2222222222222222,\"#7201a8\"],[0.3333333333333333,\"#9c179e\"],[0.4444444444444444,\"#bd3786\"],[0.5555555555555556,\"#d8576b\"],[0.6666666666666666,\"#ed7953\"],[0.7777777777777778,\"#fb9f3a\"],[0.8888888888888888,\"#fdca26\"],[1.0,\"#f0f921\"]],\"sequentialminus\":[[0.0,\"#0d0887\"],[0.1111111111111111,\"#46039f\"],[0.2222222222222222,\"#7201a8\"],[0.3333333333333333,\"#9c179e\"],[0.4444444444444444,\"#bd3786\"],[0.5555555555555556,\"#d8576b\"],[0.6666666666666666,\"#ed7953\"],[0.7777777777777778,\"#fb9f3a\"],[0.8888888888888888,\"#fdca26\"],[1.0,\"#f0f921\"]]},\"colorway\":[\"#636efa\",\"#EF553B\",\"#00cc96\",\"#ab63fa\",\"#FFA15A\",\"#19d3f3\",\"#FF6692\",\"#B6E880\",\"#FF97FF\",\"#FECB52\"],\"font\":{\"color\":\"#2a3f5f\"},\"geo\":{\"bgcolor\":\"white\",\"lakecolor\":\"white\",\"landcolor\":\"#E5ECF6\",\"showlakes\":true,\"showland\":true,\"subunitcolor\":\"white\"},\"hoverlabel\":{\"align\":\"left\"},\"hovermode\":\"closest\",\"mapbox\":{\"style\":\"light\"},\"paper_bgcolor\":\"white\",\"plot_bgcolor\":\"#E5ECF6\",\"polar\":{\"angularaxis\":{\"gridcolor\":\"white\",\"linecolor\":\"white\",\"ticks\":\"\"},\"bgcolor\":\"#E5ECF6\",\"radialaxis\":{\"gridcolor\":\"white\",\"linecolor\":\"white\",\"ticks\":\"\"}},\"scene\":{\"xaxis\":{\"backgroundcolor\":\"#E5ECF6\",\"gridcolor\":\"white\",\"gridwidth\":2,\"linecolor\":\"white\",\"showbackground\":true,\"ticks\":\"\",\"zerolinecolor\":\"white\"},\"yaxis\":{\"backgroundcolor\":\"#E5ECF6\",\"gridcolor\":\"white\",\"gridwidth\":2,\"linecolor\":\"white\",\"showbackground\":true,\"ticks\":\"\",\"zerolinecolor\":\"white\"},\"zaxis\":{\"backgroundcolor\":\"#E5ECF6\",\"gridcolor\":\"white\",\"gridwidth\":2,\"linecolor\":\"white\",\"showbackground\":true,\"ticks\":\"\",\"zerolinecolor\":\"white\"}},\"shapedefaults\":{\"line\":{\"color\":\"#2a3f5f\"}},\"ternary\":{\"aaxis\":{\"gridcolor\":\"white\",\"linecolor\":\"white\",\"ticks\":\"\"},\"baxis\":{\"gridcolor\":\"white\",\"linecolor\":\"white\",\"ticks\":\"\"},\"bgcolor\":\"#E5ECF6\",\"caxis\":{\"gridcolor\":\"white\",\"linecolor\":\"white\",\"ticks\":\"\"}},\"title\":{\"x\":0.05},\"xaxis\":{\"automargin\":true,\"gridcolor\":\"white\",\"linecolor\":\"white\",\"ticks\":\"\",\"title\":{\"standoff\":15},\"zerolinecolor\":\"white\",\"zerolinewidth\":2},\"yaxis\":{\"automargin\":true,\"gridcolor\":\"white\",\"linecolor\":\"white\",\"ticks\":\"\",\"title\":{\"standoff\":15},\"zerolinecolor\":\"white\",\"zerolinewidth\":2}}},\"xaxis\":{\"anchor\":\"y\",\"domain\":[0.0,1.0],\"title\":{\"text\":\"city\"}},\"yaxis\":{\"anchor\":\"x\",\"domain\":[0.0,1.0],\"title\":{\"text\":\"sum of pgsp\"}}},                        {\"responsive\": true}                    ).then(function(){\n",
       "                            \n",
       "var gd = document.getElementById('eef0d0b7-2ccc-40d1-9ab4-6ff318ff229d');\n",
       "var x = new MutationObserver(function (mutations, observer) {{\n",
       "        var display = window.getComputedStyle(gd).display;\n",
       "        if (!display || display === 'none') {{\n",
       "            console.log([gd, 'removed!']);\n",
       "            Plotly.purge(gd);\n",
       "            observer.disconnect();\n",
       "        }}\n",
       "}});\n",
       "\n",
       "// Listen for the removal of the full notebook cells\n",
       "var notebookContainer = gd.closest('#notebook-container');\n",
       "if (notebookContainer) {{\n",
       "    x.observe(notebookContainer, {childList: true});\n",
       "}}\n",
       "\n",
       "// Listen for the clearing of the current output cell\n",
       "var outputEl = gd.closest('.output');\n",
       "if (outputEl) {{\n",
       "    x.observe(outputEl, {childList: true});\n",
       "}}\n",
       "\n",
       "                        })                };                });            </script>        </div>"
      ]
     },
     "metadata": {},
     "output_type": "display_data"
    }
   ],
   "source": [
    "fig = px.histogram(pgs, x=\"city\", y=\"pgsp\")\n",
    "fig.show()"
   ]
  },
  {
   "cell_type": "code",
   "execution_count": 36,
   "metadata": {},
   "outputs": [
    {
     "data": {
      "application/vnd.plotly.v1+json": {
       "config": {
        "plotlyServerURL": "https://plot.ly"
       },
       "data": [
        {
         "alignmentgroup": "True",
         "bingroup": "x",
         "histfunc": "sum",
         "hovertemplate": "population_density=%{x}<br>sum of new=%{y}<extra></extra>",
         "legendgroup": "",
         "marker": {
          "color": "#636efa",
          "pattern": {
           "shape": ""
          }
         },
         "name": "",
         "offsetgroup": "",
         "orientation": "v",
         "showlegend": false,
         "type": "histogram",
         "x": [
          "4956,06",
          "3843,90",
          "17342",
          "4181",
          "4155",
          "2219",
          "4450",
          "121",
          "309",
          "5935",
          "1622",
          "2392",
          "2207",
          "167",
          "3307",
          "4237",
          "1365",
          "1379",
          "512",
          "7331",
          "7522",
          "1581",
          "245",
          "3010",
          "2236",
          "197",
          "340",
          "1151",
          "802",
          "3421",
          "1497",
          "1574",
          "3464",
          "1049",
          "5709",
          "3677",
          "2776",
          "2052",
          "5703",
          "031",
          "4671",
          "6693",
          "1130",
          "6189",
          "1878",
          "4652",
          "3359",
          "4739",
          "3569",
          "2976",
          "2922",
          "343",
          "1094",
          "2800",
          "868",
          "218",
          "1052",
          "561",
          "1157",
          "363",
          "3027",
          "5752",
          "194",
          "51948",
          "237",
          "16224",
          "067",
          "9135",
          "5948",
          "2905",
          "030",
          "025",
          "007"
         ],
         "xaxis": "x",
         "y": [
          1639,
          1811,
          1309,
          537,
          479,
          518,
          468,
          464,
          393,
          449,
          476,
          250,
          329,
          320,
          272,
          335,
          387,
          274,
          228,
          394,
          257,
          354,
          258,
          239,
          232,
          279,
          173,
          254,
          224,
          228,
          240,
          198,
          197,
          125,
          131,
          192,
          194,
          287,
          153,
          139,
          201,
          184,
          106,
          205,
          121,
          120,
          128,
          238,
          205,
          99,
          90,
          123,
          127,
          122,
          169,
          141,
          135,
          111,
          127,
          111,
          71,
          49,
          124,
          219,
          41,
          61,
          55,
          141,
          61,
          61,
          29,
          10,
          2
         ],
         "yaxis": "y"
        }
       ],
       "layout": {
        "barmode": "relative",
        "legend": {
         "tracegroupgap": 0
        },
        "margin": {
         "t": 60
        },
        "template": {
         "data": {
          "bar": [
           {
            "error_x": {
             "color": "#2a3f5f"
            },
            "error_y": {
             "color": "#2a3f5f"
            },
            "marker": {
             "line": {
              "color": "#E5ECF6",
              "width": 0.5
             },
             "pattern": {
              "fillmode": "overlay",
              "size": 10,
              "solidity": 0.2
             }
            },
            "type": "bar"
           }
          ],
          "barpolar": [
           {
            "marker": {
             "line": {
              "color": "#E5ECF6",
              "width": 0.5
             },
             "pattern": {
              "fillmode": "overlay",
              "size": 10,
              "solidity": 0.2
             }
            },
            "type": "barpolar"
           }
          ],
          "carpet": [
           {
            "aaxis": {
             "endlinecolor": "#2a3f5f",
             "gridcolor": "white",
             "linecolor": "white",
             "minorgridcolor": "white",
             "startlinecolor": "#2a3f5f"
            },
            "baxis": {
             "endlinecolor": "#2a3f5f",
             "gridcolor": "white",
             "linecolor": "white",
             "minorgridcolor": "white",
             "startlinecolor": "#2a3f5f"
            },
            "type": "carpet"
           }
          ],
          "choropleth": [
           {
            "colorbar": {
             "outlinewidth": 0,
             "ticks": ""
            },
            "type": "choropleth"
           }
          ],
          "contour": [
           {
            "colorbar": {
             "outlinewidth": 0,
             "ticks": ""
            },
            "colorscale": [
             [
              0,
              "#0d0887"
             ],
             [
              0.1111111111111111,
              "#46039f"
             ],
             [
              0.2222222222222222,
              "#7201a8"
             ],
             [
              0.3333333333333333,
              "#9c179e"
             ],
             [
              0.4444444444444444,
              "#bd3786"
             ],
             [
              0.5555555555555556,
              "#d8576b"
             ],
             [
              0.6666666666666666,
              "#ed7953"
             ],
             [
              0.7777777777777778,
              "#fb9f3a"
             ],
             [
              0.8888888888888888,
              "#fdca26"
             ],
             [
              1,
              "#f0f921"
             ]
            ],
            "type": "contour"
           }
          ],
          "contourcarpet": [
           {
            "colorbar": {
             "outlinewidth": 0,
             "ticks": ""
            },
            "type": "contourcarpet"
           }
          ],
          "heatmap": [
           {
            "colorbar": {
             "outlinewidth": 0,
             "ticks": ""
            },
            "colorscale": [
             [
              0,
              "#0d0887"
             ],
             [
              0.1111111111111111,
              "#46039f"
             ],
             [
              0.2222222222222222,
              "#7201a8"
             ],
             [
              0.3333333333333333,
              "#9c179e"
             ],
             [
              0.4444444444444444,
              "#bd3786"
             ],
             [
              0.5555555555555556,
              "#d8576b"
             ],
             [
              0.6666666666666666,
              "#ed7953"
             ],
             [
              0.7777777777777778,
              "#fb9f3a"
             ],
             [
              0.8888888888888888,
              "#fdca26"
             ],
             [
              1,
              "#f0f921"
             ]
            ],
            "type": "heatmap"
           }
          ],
          "heatmapgl": [
           {
            "colorbar": {
             "outlinewidth": 0,
             "ticks": ""
            },
            "colorscale": [
             [
              0,
              "#0d0887"
             ],
             [
              0.1111111111111111,
              "#46039f"
             ],
             [
              0.2222222222222222,
              "#7201a8"
             ],
             [
              0.3333333333333333,
              "#9c179e"
             ],
             [
              0.4444444444444444,
              "#bd3786"
             ],
             [
              0.5555555555555556,
              "#d8576b"
             ],
             [
              0.6666666666666666,
              "#ed7953"
             ],
             [
              0.7777777777777778,
              "#fb9f3a"
             ],
             [
              0.8888888888888888,
              "#fdca26"
             ],
             [
              1,
              "#f0f921"
             ]
            ],
            "type": "heatmapgl"
           }
          ],
          "histogram": [
           {
            "marker": {
             "pattern": {
              "fillmode": "overlay",
              "size": 10,
              "solidity": 0.2
             }
            },
            "type": "histogram"
           }
          ],
          "histogram2d": [
           {
            "colorbar": {
             "outlinewidth": 0,
             "ticks": ""
            },
            "colorscale": [
             [
              0,
              "#0d0887"
             ],
             [
              0.1111111111111111,
              "#46039f"
             ],
             [
              0.2222222222222222,
              "#7201a8"
             ],
             [
              0.3333333333333333,
              "#9c179e"
             ],
             [
              0.4444444444444444,
              "#bd3786"
             ],
             [
              0.5555555555555556,
              "#d8576b"
             ],
             [
              0.6666666666666666,
              "#ed7953"
             ],
             [
              0.7777777777777778,
              "#fb9f3a"
             ],
             [
              0.8888888888888888,
              "#fdca26"
             ],
             [
              1,
              "#f0f921"
             ]
            ],
            "type": "histogram2d"
           }
          ],
          "histogram2dcontour": [
           {
            "colorbar": {
             "outlinewidth": 0,
             "ticks": ""
            },
            "colorscale": [
             [
              0,
              "#0d0887"
             ],
             [
              0.1111111111111111,
              "#46039f"
             ],
             [
              0.2222222222222222,
              "#7201a8"
             ],
             [
              0.3333333333333333,
              "#9c179e"
             ],
             [
              0.4444444444444444,
              "#bd3786"
             ],
             [
              0.5555555555555556,
              "#d8576b"
             ],
             [
              0.6666666666666666,
              "#ed7953"
             ],
             [
              0.7777777777777778,
              "#fb9f3a"
             ],
             [
              0.8888888888888888,
              "#fdca26"
             ],
             [
              1,
              "#f0f921"
             ]
            ],
            "type": "histogram2dcontour"
           }
          ],
          "mesh3d": [
           {
            "colorbar": {
             "outlinewidth": 0,
             "ticks": ""
            },
            "type": "mesh3d"
           }
          ],
          "parcoords": [
           {
            "line": {
             "colorbar": {
              "outlinewidth": 0,
              "ticks": ""
             }
            },
            "type": "parcoords"
           }
          ],
          "pie": [
           {
            "automargin": true,
            "type": "pie"
           }
          ],
          "scatter": [
           {
            "marker": {
             "colorbar": {
              "outlinewidth": 0,
              "ticks": ""
             }
            },
            "type": "scatter"
           }
          ],
          "scatter3d": [
           {
            "line": {
             "colorbar": {
              "outlinewidth": 0,
              "ticks": ""
             }
            },
            "marker": {
             "colorbar": {
              "outlinewidth": 0,
              "ticks": ""
             }
            },
            "type": "scatter3d"
           }
          ],
          "scattercarpet": [
           {
            "marker": {
             "colorbar": {
              "outlinewidth": 0,
              "ticks": ""
             }
            },
            "type": "scattercarpet"
           }
          ],
          "scattergeo": [
           {
            "marker": {
             "colorbar": {
              "outlinewidth": 0,
              "ticks": ""
             }
            },
            "type": "scattergeo"
           }
          ],
          "scattergl": [
           {
            "marker": {
             "colorbar": {
              "outlinewidth": 0,
              "ticks": ""
             }
            },
            "type": "scattergl"
           }
          ],
          "scattermapbox": [
           {
            "marker": {
             "colorbar": {
              "outlinewidth": 0,
              "ticks": ""
             }
            },
            "type": "scattermapbox"
           }
          ],
          "scatterpolar": [
           {
            "marker": {
             "colorbar": {
              "outlinewidth": 0,
              "ticks": ""
             }
            },
            "type": "scatterpolar"
           }
          ],
          "scatterpolargl": [
           {
            "marker": {
             "colorbar": {
              "outlinewidth": 0,
              "ticks": ""
             }
            },
            "type": "scatterpolargl"
           }
          ],
          "scatterternary": [
           {
            "marker": {
             "colorbar": {
              "outlinewidth": 0,
              "ticks": ""
             }
            },
            "type": "scatterternary"
           }
          ],
          "surface": [
           {
            "colorbar": {
             "outlinewidth": 0,
             "ticks": ""
            },
            "colorscale": [
             [
              0,
              "#0d0887"
             ],
             [
              0.1111111111111111,
              "#46039f"
             ],
             [
              0.2222222222222222,
              "#7201a8"
             ],
             [
              0.3333333333333333,
              "#9c179e"
             ],
             [
              0.4444444444444444,
              "#bd3786"
             ],
             [
              0.5555555555555556,
              "#d8576b"
             ],
             [
              0.6666666666666666,
              "#ed7953"
             ],
             [
              0.7777777777777778,
              "#fb9f3a"
             ],
             [
              0.8888888888888888,
              "#fdca26"
             ],
             [
              1,
              "#f0f921"
             ]
            ],
            "type": "surface"
           }
          ],
          "table": [
           {
            "cells": {
             "fill": {
              "color": "#EBF0F8"
             },
             "line": {
              "color": "white"
             }
            },
            "header": {
             "fill": {
              "color": "#C8D4E3"
             },
             "line": {
              "color": "white"
             }
            },
            "type": "table"
           }
          ]
         },
         "layout": {
          "annotationdefaults": {
           "arrowcolor": "#2a3f5f",
           "arrowhead": 0,
           "arrowwidth": 1
          },
          "autotypenumbers": "strict",
          "coloraxis": {
           "colorbar": {
            "outlinewidth": 0,
            "ticks": ""
           }
          },
          "colorscale": {
           "diverging": [
            [
             0,
             "#8e0152"
            ],
            [
             0.1,
             "#c51b7d"
            ],
            [
             0.2,
             "#de77ae"
            ],
            [
             0.3,
             "#f1b6da"
            ],
            [
             0.4,
             "#fde0ef"
            ],
            [
             0.5,
             "#f7f7f7"
            ],
            [
             0.6,
             "#e6f5d0"
            ],
            [
             0.7,
             "#b8e186"
            ],
            [
             0.8,
             "#7fbc41"
            ],
            [
             0.9,
             "#4d9221"
            ],
            [
             1,
             "#276419"
            ]
           ],
           "sequential": [
            [
             0,
             "#0d0887"
            ],
            [
             0.1111111111111111,
             "#46039f"
            ],
            [
             0.2222222222222222,
             "#7201a8"
            ],
            [
             0.3333333333333333,
             "#9c179e"
            ],
            [
             0.4444444444444444,
             "#bd3786"
            ],
            [
             0.5555555555555556,
             "#d8576b"
            ],
            [
             0.6666666666666666,
             "#ed7953"
            ],
            [
             0.7777777777777778,
             "#fb9f3a"
            ],
            [
             0.8888888888888888,
             "#fdca26"
            ],
            [
             1,
             "#f0f921"
            ]
           ],
           "sequentialminus": [
            [
             0,
             "#0d0887"
            ],
            [
             0.1111111111111111,
             "#46039f"
            ],
            [
             0.2222222222222222,
             "#7201a8"
            ],
            [
             0.3333333333333333,
             "#9c179e"
            ],
            [
             0.4444444444444444,
             "#bd3786"
            ],
            [
             0.5555555555555556,
             "#d8576b"
            ],
            [
             0.6666666666666666,
             "#ed7953"
            ],
            [
             0.7777777777777778,
             "#fb9f3a"
            ],
            [
             0.8888888888888888,
             "#fdca26"
            ],
            [
             1,
             "#f0f921"
            ]
           ]
          },
          "colorway": [
           "#636efa",
           "#EF553B",
           "#00cc96",
           "#ab63fa",
           "#FFA15A",
           "#19d3f3",
           "#FF6692",
           "#B6E880",
           "#FF97FF",
           "#FECB52"
          ],
          "font": {
           "color": "#2a3f5f"
          },
          "geo": {
           "bgcolor": "white",
           "lakecolor": "white",
           "landcolor": "#E5ECF6",
           "showlakes": true,
           "showland": true,
           "subunitcolor": "white"
          },
          "hoverlabel": {
           "align": "left"
          },
          "hovermode": "closest",
          "mapbox": {
           "style": "light"
          },
          "paper_bgcolor": "white",
          "plot_bgcolor": "#E5ECF6",
          "polar": {
           "angularaxis": {
            "gridcolor": "white",
            "linecolor": "white",
            "ticks": ""
           },
           "bgcolor": "#E5ECF6",
           "radialaxis": {
            "gridcolor": "white",
            "linecolor": "white",
            "ticks": ""
           }
          },
          "scene": {
           "xaxis": {
            "backgroundcolor": "#E5ECF6",
            "gridcolor": "white",
            "gridwidth": 2,
            "linecolor": "white",
            "showbackground": true,
            "ticks": "",
            "zerolinecolor": "white"
           },
           "yaxis": {
            "backgroundcolor": "#E5ECF6",
            "gridcolor": "white",
            "gridwidth": 2,
            "linecolor": "white",
            "showbackground": true,
            "ticks": "",
            "zerolinecolor": "white"
           },
           "zaxis": {
            "backgroundcolor": "#E5ECF6",
            "gridcolor": "white",
            "gridwidth": 2,
            "linecolor": "white",
            "showbackground": true,
            "ticks": "",
            "zerolinecolor": "white"
           }
          },
          "shapedefaults": {
           "line": {
            "color": "#2a3f5f"
           }
          },
          "ternary": {
           "aaxis": {
            "gridcolor": "white",
            "linecolor": "white",
            "ticks": ""
           },
           "baxis": {
            "gridcolor": "white",
            "linecolor": "white",
            "ticks": ""
           },
           "bgcolor": "#E5ECF6",
           "caxis": {
            "gridcolor": "white",
            "linecolor": "white",
            "ticks": ""
           }
          },
          "title": {
           "x": 0.05
          },
          "xaxis": {
           "automargin": true,
           "gridcolor": "white",
           "linecolor": "white",
           "ticks": "",
           "title": {
            "standoff": 15
           },
           "zerolinecolor": "white",
           "zerolinewidth": 2
          },
          "yaxis": {
           "automargin": true,
           "gridcolor": "white",
           "linecolor": "white",
           "ticks": "",
           "title": {
            "standoff": 15
           },
           "zerolinecolor": "white",
           "zerolinewidth": 2
          }
         }
        },
        "xaxis": {
         "anchor": "y",
         "domain": [
          0,
          1
         ],
         "title": {
          "text": "population_density"
         }
        },
        "yaxis": {
         "anchor": "x",
         "domain": [
          0,
          1
         ],
         "title": {
          "text": "sum of new"
         }
        }
       }
      },
      "text/html": [
       "<div>                            <div id=\"a3e27dc5-8cad-4ac6-a325-0fe153d34fba\" class=\"plotly-graph-div\" style=\"height:525px; width:100%;\"></div>            <script type=\"text/javascript\">                require([\"plotly\"], function(Plotly) {                    window.PLOTLYENV=window.PLOTLYENV || {};                                    if (document.getElementById(\"a3e27dc5-8cad-4ac6-a325-0fe153d34fba\")) {                    Plotly.newPlot(                        \"a3e27dc5-8cad-4ac6-a325-0fe153d34fba\",                        [{\"alignmentgroup\":\"True\",\"bingroup\":\"x\",\"histfunc\":\"sum\",\"hovertemplate\":\"population_density=%{x}<br>sum of new=%{y}<extra></extra>\",\"legendgroup\":\"\",\"marker\":{\"color\":\"#636efa\",\"pattern\":{\"shape\":\"\"}},\"name\":\"\",\"offsetgroup\":\"\",\"orientation\":\"v\",\"showlegend\":false,\"type\":\"histogram\",\"x\":[\"4956,06\",\"3843,90\",\"17342\",\"4181\",\"4155\",\"2219\",\"4450\",\"121\",\"309\",\"5935\",\"1622\",\"2392\",\"2207\",\"167\",\"3307\",\"4237\",\"1365\",\"1379\",\"512\",\"7331\",\"7522\",\"1581\",\"245\",\"3010\",\"2236\",\"197\",\"340\",\"1151\",\"802\",\"3421\",\"1497\",\"1574\",\"3464\",\"1049\",\"5709\",\"3677\",\"2776\",\"2052\",\"5703\",\"031\",\"4671\",\"6693\",\"1130\",\"6189\",\"1878\",\"4652\",\"3359\",\"4739\",\"3569\",\"2976\",\"2922\",\"343\",\"1094\",\"2800\",\"868\",\"218\",\"1052\",\"561\",\"1157\",\"363\",\"3027\",\"5752\",\"194\",\"51948\",\"237\",\"16224\",\"067\",\"9135\",\"5948\",\"2905\",\"030\",\"025\",\"007\"],\"xaxis\":\"x\",\"y\":[1639,1811,1309,537,479,518,468,464,393,449,476,250,329,320,272,335,387,274,228,394,257,354,258,239,232,279,173,254,224,228,240,198,197,125,131,192,194,287,153,139,201,184,106,205,121,120,128,238,205,99,90,123,127,122,169,141,135,111,127,111,71,49,124,219,41,61,55,141,61,61,29,10,2],\"yaxis\":\"y\"}],                        {\"barmode\":\"relative\",\"legend\":{\"tracegroupgap\":0},\"margin\":{\"t\":60},\"template\":{\"data\":{\"bar\":[{\"error_x\":{\"color\":\"#2a3f5f\"},\"error_y\":{\"color\":\"#2a3f5f\"},\"marker\":{\"line\":{\"color\":\"#E5ECF6\",\"width\":0.5},\"pattern\":{\"fillmode\":\"overlay\",\"size\":10,\"solidity\":0.2}},\"type\":\"bar\"}],\"barpolar\":[{\"marker\":{\"line\":{\"color\":\"#E5ECF6\",\"width\":0.5},\"pattern\":{\"fillmode\":\"overlay\",\"size\":10,\"solidity\":0.2}},\"type\":\"barpolar\"}],\"carpet\":[{\"aaxis\":{\"endlinecolor\":\"#2a3f5f\",\"gridcolor\":\"white\",\"linecolor\":\"white\",\"minorgridcolor\":\"white\",\"startlinecolor\":\"#2a3f5f\"},\"baxis\":{\"endlinecolor\":\"#2a3f5f\",\"gridcolor\":\"white\",\"linecolor\":\"white\",\"minorgridcolor\":\"white\",\"startlinecolor\":\"#2a3f5f\"},\"type\":\"carpet\"}],\"choropleth\":[{\"colorbar\":{\"outlinewidth\":0,\"ticks\":\"\"},\"type\":\"choropleth\"}],\"contour\":[{\"colorbar\":{\"outlinewidth\":0,\"ticks\":\"\"},\"colorscale\":[[0.0,\"#0d0887\"],[0.1111111111111111,\"#46039f\"],[0.2222222222222222,\"#7201a8\"],[0.3333333333333333,\"#9c179e\"],[0.4444444444444444,\"#bd3786\"],[0.5555555555555556,\"#d8576b\"],[0.6666666666666666,\"#ed7953\"],[0.7777777777777778,\"#fb9f3a\"],[0.8888888888888888,\"#fdca26\"],[1.0,\"#f0f921\"]],\"type\":\"contour\"}],\"contourcarpet\":[{\"colorbar\":{\"outlinewidth\":0,\"ticks\":\"\"},\"type\":\"contourcarpet\"}],\"heatmap\":[{\"colorbar\":{\"outlinewidth\":0,\"ticks\":\"\"},\"colorscale\":[[0.0,\"#0d0887\"],[0.1111111111111111,\"#46039f\"],[0.2222222222222222,\"#7201a8\"],[0.3333333333333333,\"#9c179e\"],[0.4444444444444444,\"#bd3786\"],[0.5555555555555556,\"#d8576b\"],[0.6666666666666666,\"#ed7953\"],[0.7777777777777778,\"#fb9f3a\"],[0.8888888888888888,\"#fdca26\"],[1.0,\"#f0f921\"]],\"type\":\"heatmap\"}],\"heatmapgl\":[{\"colorbar\":{\"outlinewidth\":0,\"ticks\":\"\"},\"colorscale\":[[0.0,\"#0d0887\"],[0.1111111111111111,\"#46039f\"],[0.2222222222222222,\"#7201a8\"],[0.3333333333333333,\"#9c179e\"],[0.4444444444444444,\"#bd3786\"],[0.5555555555555556,\"#d8576b\"],[0.6666666666666666,\"#ed7953\"],[0.7777777777777778,\"#fb9f3a\"],[0.8888888888888888,\"#fdca26\"],[1.0,\"#f0f921\"]],\"type\":\"heatmapgl\"}],\"histogram\":[{\"marker\":{\"pattern\":{\"fillmode\":\"overlay\",\"size\":10,\"solidity\":0.2}},\"type\":\"histogram\"}],\"histogram2d\":[{\"colorbar\":{\"outlinewidth\":0,\"ticks\":\"\"},\"colorscale\":[[0.0,\"#0d0887\"],[0.1111111111111111,\"#46039f\"],[0.2222222222222222,\"#7201a8\"],[0.3333333333333333,\"#9c179e\"],[0.4444444444444444,\"#bd3786\"],[0.5555555555555556,\"#d8576b\"],[0.6666666666666666,\"#ed7953\"],[0.7777777777777778,\"#fb9f3a\"],[0.8888888888888888,\"#fdca26\"],[1.0,\"#f0f921\"]],\"type\":\"histogram2d\"}],\"histogram2dcontour\":[{\"colorbar\":{\"outlinewidth\":0,\"ticks\":\"\"},\"colorscale\":[[0.0,\"#0d0887\"],[0.1111111111111111,\"#46039f\"],[0.2222222222222222,\"#7201a8\"],[0.3333333333333333,\"#9c179e\"],[0.4444444444444444,\"#bd3786\"],[0.5555555555555556,\"#d8576b\"],[0.6666666666666666,\"#ed7953\"],[0.7777777777777778,\"#fb9f3a\"],[0.8888888888888888,\"#fdca26\"],[1.0,\"#f0f921\"]],\"type\":\"histogram2dcontour\"}],\"mesh3d\":[{\"colorbar\":{\"outlinewidth\":0,\"ticks\":\"\"},\"type\":\"mesh3d\"}],\"parcoords\":[{\"line\":{\"colorbar\":{\"outlinewidth\":0,\"ticks\":\"\"}},\"type\":\"parcoords\"}],\"pie\":[{\"automargin\":true,\"type\":\"pie\"}],\"scatter\":[{\"marker\":{\"colorbar\":{\"outlinewidth\":0,\"ticks\":\"\"}},\"type\":\"scatter\"}],\"scatter3d\":[{\"line\":{\"colorbar\":{\"outlinewidth\":0,\"ticks\":\"\"}},\"marker\":{\"colorbar\":{\"outlinewidth\":0,\"ticks\":\"\"}},\"type\":\"scatter3d\"}],\"scattercarpet\":[{\"marker\":{\"colorbar\":{\"outlinewidth\":0,\"ticks\":\"\"}},\"type\":\"scattercarpet\"}],\"scattergeo\":[{\"marker\":{\"colorbar\":{\"outlinewidth\":0,\"ticks\":\"\"}},\"type\":\"scattergeo\"}],\"scattergl\":[{\"marker\":{\"colorbar\":{\"outlinewidth\":0,\"ticks\":\"\"}},\"type\":\"scattergl\"}],\"scattermapbox\":[{\"marker\":{\"colorbar\":{\"outlinewidth\":0,\"ticks\":\"\"}},\"type\":\"scattermapbox\"}],\"scatterpolar\":[{\"marker\":{\"colorbar\":{\"outlinewidth\":0,\"ticks\":\"\"}},\"type\":\"scatterpolar\"}],\"scatterpolargl\":[{\"marker\":{\"colorbar\":{\"outlinewidth\":0,\"ticks\":\"\"}},\"type\":\"scatterpolargl\"}],\"scatterternary\":[{\"marker\":{\"colorbar\":{\"outlinewidth\":0,\"ticks\":\"\"}},\"type\":\"scatterternary\"}],\"surface\":[{\"colorbar\":{\"outlinewidth\":0,\"ticks\":\"\"},\"colorscale\":[[0.0,\"#0d0887\"],[0.1111111111111111,\"#46039f\"],[0.2222222222222222,\"#7201a8\"],[0.3333333333333333,\"#9c179e\"],[0.4444444444444444,\"#bd3786\"],[0.5555555555555556,\"#d8576b\"],[0.6666666666666666,\"#ed7953\"],[0.7777777777777778,\"#fb9f3a\"],[0.8888888888888888,\"#fdca26\"],[1.0,\"#f0f921\"]],\"type\":\"surface\"}],\"table\":[{\"cells\":{\"fill\":{\"color\":\"#EBF0F8\"},\"line\":{\"color\":\"white\"}},\"header\":{\"fill\":{\"color\":\"#C8D4E3\"},\"line\":{\"color\":\"white\"}},\"type\":\"table\"}]},\"layout\":{\"annotationdefaults\":{\"arrowcolor\":\"#2a3f5f\",\"arrowhead\":0,\"arrowwidth\":1},\"autotypenumbers\":\"strict\",\"coloraxis\":{\"colorbar\":{\"outlinewidth\":0,\"ticks\":\"\"}},\"colorscale\":{\"diverging\":[[0,\"#8e0152\"],[0.1,\"#c51b7d\"],[0.2,\"#de77ae\"],[0.3,\"#f1b6da\"],[0.4,\"#fde0ef\"],[0.5,\"#f7f7f7\"],[0.6,\"#e6f5d0\"],[0.7,\"#b8e186\"],[0.8,\"#7fbc41\"],[0.9,\"#4d9221\"],[1,\"#276419\"]],\"sequential\":[[0.0,\"#0d0887\"],[0.1111111111111111,\"#46039f\"],[0.2222222222222222,\"#7201a8\"],[0.3333333333333333,\"#9c179e\"],[0.4444444444444444,\"#bd3786\"],[0.5555555555555556,\"#d8576b\"],[0.6666666666666666,\"#ed7953\"],[0.7777777777777778,\"#fb9f3a\"],[0.8888888888888888,\"#fdca26\"],[1.0,\"#f0f921\"]],\"sequentialminus\":[[0.0,\"#0d0887\"],[0.1111111111111111,\"#46039f\"],[0.2222222222222222,\"#7201a8\"],[0.3333333333333333,\"#9c179e\"],[0.4444444444444444,\"#bd3786\"],[0.5555555555555556,\"#d8576b\"],[0.6666666666666666,\"#ed7953\"],[0.7777777777777778,\"#fb9f3a\"],[0.8888888888888888,\"#fdca26\"],[1.0,\"#f0f921\"]]},\"colorway\":[\"#636efa\",\"#EF553B\",\"#00cc96\",\"#ab63fa\",\"#FFA15A\",\"#19d3f3\",\"#FF6692\",\"#B6E880\",\"#FF97FF\",\"#FECB52\"],\"font\":{\"color\":\"#2a3f5f\"},\"geo\":{\"bgcolor\":\"white\",\"lakecolor\":\"white\",\"landcolor\":\"#E5ECF6\",\"showlakes\":true,\"showland\":true,\"subunitcolor\":\"white\"},\"hoverlabel\":{\"align\":\"left\"},\"hovermode\":\"closest\",\"mapbox\":{\"style\":\"light\"},\"paper_bgcolor\":\"white\",\"plot_bgcolor\":\"#E5ECF6\",\"polar\":{\"angularaxis\":{\"gridcolor\":\"white\",\"linecolor\":\"white\",\"ticks\":\"\"},\"bgcolor\":\"#E5ECF6\",\"radialaxis\":{\"gridcolor\":\"white\",\"linecolor\":\"white\",\"ticks\":\"\"}},\"scene\":{\"xaxis\":{\"backgroundcolor\":\"#E5ECF6\",\"gridcolor\":\"white\",\"gridwidth\":2,\"linecolor\":\"white\",\"showbackground\":true,\"ticks\":\"\",\"zerolinecolor\":\"white\"},\"yaxis\":{\"backgroundcolor\":\"#E5ECF6\",\"gridcolor\":\"white\",\"gridwidth\":2,\"linecolor\":\"white\",\"showbackground\":true,\"ticks\":\"\",\"zerolinecolor\":\"white\"},\"zaxis\":{\"backgroundcolor\":\"#E5ECF6\",\"gridcolor\":\"white\",\"gridwidth\":2,\"linecolor\":\"white\",\"showbackground\":true,\"ticks\":\"\",\"zerolinecolor\":\"white\"}},\"shapedefaults\":{\"line\":{\"color\":\"#2a3f5f\"}},\"ternary\":{\"aaxis\":{\"gridcolor\":\"white\",\"linecolor\":\"white\",\"ticks\":\"\"},\"baxis\":{\"gridcolor\":\"white\",\"linecolor\":\"white\",\"ticks\":\"\"},\"bgcolor\":\"#E5ECF6\",\"caxis\":{\"gridcolor\":\"white\",\"linecolor\":\"white\",\"ticks\":\"\"}},\"title\":{\"x\":0.05},\"xaxis\":{\"automargin\":true,\"gridcolor\":\"white\",\"linecolor\":\"white\",\"ticks\":\"\",\"title\":{\"standoff\":15},\"zerolinecolor\":\"white\",\"zerolinewidth\":2},\"yaxis\":{\"automargin\":true,\"gridcolor\":\"white\",\"linecolor\":\"white\",\"ticks\":\"\",\"title\":{\"standoff\":15},\"zerolinecolor\":\"white\",\"zerolinewidth\":2}}},\"xaxis\":{\"anchor\":\"y\",\"domain\":[0.0,1.0],\"title\":{\"text\":\"population_density\"}},\"yaxis\":{\"anchor\":\"x\",\"domain\":[0.0,1.0],\"title\":{\"text\":\"sum of new\"}}},                        {\"responsive\": true}                    ).then(function(){\n",
       "                            \n",
       "var gd = document.getElementById('a3e27dc5-8cad-4ac6-a325-0fe153d34fba');\n",
       "var x = new MutationObserver(function (mutations, observer) {{\n",
       "        var display = window.getComputedStyle(gd).display;\n",
       "        if (!display || display === 'none') {{\n",
       "            console.log([gd, 'removed!']);\n",
       "            Plotly.purge(gd);\n",
       "            observer.disconnect();\n",
       "        }}\n",
       "}});\n",
       "\n",
       "// Listen for the removal of the full notebook cells\n",
       "var notebookContainer = gd.closest('#notebook-container');\n",
       "if (notebookContainer) {{\n",
       "    x.observe(notebookContainer, {childList: true});\n",
       "}}\n",
       "\n",
       "// Listen for the clearing of the current output cell\n",
       "var outputEl = gd.closest('.output');\n",
       "if (outputEl) {{\n",
       "    x.observe(outputEl, {childList: true});\n",
       "}}\n",
       "\n",
       "                        })                };                });            </script>        </div>"
      ]
     },
     "metadata": {},
     "output_type": "display_data"
    }
   ],
   "source": [
    "#Строим на графике процент заболевших за последний день людей в зависимости от плотности населения для каждого региона.\n",
    "#по горизонтальной оси -  плотность населения (чел/км2); по вертикальной оси - количество заболевших за день. \n",
    "\n",
    "fig = px.histogram(new_tr, x=\"population_density\", y=\"new\", hover_name=\"city\")\n",
    "fig.show()\n",
    "\n",
    "\n"
   ]
  },
  {
   "cell_type": "code",
   "execution_count": 8,
   "metadata": {},
   "outputs": [],
   "source": [
    "#Добавляем геоанные регионов\n",
    "city_loc = [['Москва', 55.7540471, 37.620405], \n",
    "            ['Московская область', 55.8317203, 37.3295266], \n",
    "            ['Санкт-Петербург', 59.9391313, 30.3159004],\n",
    "            ['Нижегородская область', 56.3240627, 44.0053913],\n",
    "           ['Свердловская область', 56.8385216, 60.6054911],\n",
    "            ['Ростовская область', 47.2224566, 39.718803],\n",
    "              ['Красноярский край', 56.0093879, 92.8524806],\n",
    "            ['Воронежская область', 51.6593332, 39.1969229],\n",
    "              ['Иркутская область', 52.2864036, 104.2807466],\n",
    "            ['Ставропольский край', 45.044516, 41.9689655],\n",
    "           ['Ульяновская область', 54.3079415, 48.3748487],\n",
    "            ['Мурманская область', 69.007721, 33.0685865],\n",
    "         ['Волгоградская область', 48.7070042, 44.5170339],\n",
    "           ['Саратовская область', 51.5303047, 45.9529348],\n",
    "                ['Алтайский край', 51.9581028, 85.9603235],\n",
    "              ['Хабаровский край', 48.4647258, 135.0598942],\n",
    "          ['Оренбургская область', 51.7875092, 55.1018828],\n",
    "         ['Новосибирская область', 55.028191, 82.9211489],\n",
    "                ['Омская область', 54.9848566, 73.3674517],\n",
    "            ['Краснодарский край', 45.0401604, 38.9759647],\n",
    "             ['Самарская область', 53.1950306, 50.1069518],\n",
    "               ['Приморский край', 43.1164904, 131.8823937],\n",
    "           ['Кемеровская область', 55.3910651, 86.0467781],\n",
    "               ['Республика Коми', 61.6686617, 50.8358151],\n",
    "            ['Пензенская область', 53.1753314, 45.0348625],\n",
    "                 ['Пермский край', 58.0102583, 56.2342034],\n",
    "      ['Республика Саха (Якутия)', 62.0281405, 129.7325887],\n",
    "           ['Республика Дагестан', 42.9849159, 47.5047181],\n",
    "            ['Забайкальский край', 52.0340142, 113.4994],\n",
    "               ['Томская область', 56.4845804, 84.9481582],\n",
    "             ['Кировская область', 58.6035264, 49.6679304],\n",
    "              ['Брянская область', 53.2419535, 34.3652146],\n",
    "         ['Ленинградская область', 60.0191278, 30.6456718],\n",
    "              ['Тульская область', 54.1920559, 37.6153842],\n",
    "           ['Ярославская область', 57.6215477, 39.8977411],\n",
    "             ['Орловская область', 52.9671298, 36.0696427],\n",
    "          ['Белгородская область', 50.5976472, 36.5856652],\n",
    "             ['Калужская область', 54.5059848, 36.2516245],\n",
    "            ['Ивановская область', 56.9993792, 40.9728272],\n",
    "               ['Курская область', 51.7303637, 36.1925603],\n",
    "               ['Республика Крым', 44.9482948, 34.1001151],\n",
    "              ['Тверская область', 56.8586059, 35.9116761],\n",
    "             ['Рязанская область', 54.6254445, 39.7358609],\n",
    "          ['Астраханская область', 46.3655652, 48.0559236],\n",
    "            ['Республика Карелия', 61.7891264, 34.3596434],\n",
    "            ['Тамбовская область', 52.7213154, 41.452264],\n",
    "          ['Владимирская область', 56.1280804, 40.4084376],\n",
    "         ['Удмуртская Республика', 56.852738, 53.2114896],\n",
    "               ['Республика Тыва', 51.7191047, 94.4376882],\n",
    "            ['Смоленская область', 54.7866913, 31.8152477],\n",
    "             ['Псковская область', 57.8194415, 28.3317198],\n",
    "           ['Республика Калмыкия', 46.3083344, 44.2702088],\n",
    "            ['Республика Хакасия', 53.7223325, 91.4436721],\n",
    "          ['Новгородская область', 58.5213846, 31.2755394],\n",
    "              ['Республика Алтай', 51.9581028, 85.9603235],\n",
    "           ['Костромская область', 40.9908264, 268617],\n",
    "           ['Сахалинская область', 46.9591631, 142.737976],\n",
    "           ['Вологодская область', 48.7070042, 44.5170339],\n",
    "              ['Липецкая область', 52.610249, 39.5947883],\n",
    "              ['Амурская область', 50.290659, 127.527198],\n",
    "       ['Калининградская область', 54.7074702, 20.5073241],\n",
    "           ['Республика Мордовия', 54.1809332, 45.1862632],\n",
    "          ['Республика Татарстан', 49.1114975, 1216965],\n",
    "          ['Республика Ингушетия', 43.1688611, 44.8131207],\n",
    "            ['Курганская область', 55.4443883, 65.3161963],\n",
    "             ['Республика Адыгея', 44.6098268, 40.1006606],\n",
    "           ['Республика Марий Эл', 56.6343662, 47.8999706],\n",
    "               ['Камчатский край', 53.036908, 158.6559254],\n",
    "           ['Магаданская область', 59.5681332, 150.8084956],\n",
    "                   ['Севастополь', 44.6167013, 33.525355],\n",
    "          ['Чеченская Республика', 43.3180145, 45.698291],\n",
    "     ['Ненецкий автономный округ', 67.6379672, 53.0069565],\n",
    "    ['Чукотский автономный округ', 64.7313924, 177.5015421]]\n",
    "\n",
    "\n",
    "\n"
   ]
  },
  {
   "cell_type": "code",
   "execution_count": 9,
   "metadata": {},
   "outputs": [],
   "source": [
    "#Создаём DataFrame с геоданными\n",
    "city_loc_df = pd.DataFrame(city_loc)\n",
    "city_loc_df = city_loc_df.rename(columns={city_loc_df.columns[0]: \"city\", \n",
    "                                          city_loc_df.columns[1]: \"geo_lat\", \n",
    "                                          city_loc_df.columns[2]: \"geo_lon\",})"
   ]
  },
  {
   "cell_type": "code",
   "execution_count": 10,
   "metadata": {
    "scrolled": true
   },
   "outputs": [
    {
     "data": {
      "text/html": [
       "<div>\n",
       "<style scoped>\n",
       "    .dataframe tbody tr th:only-of-type {\n",
       "        vertical-align: middle;\n",
       "    }\n",
       "\n",
       "    .dataframe tbody tr th {\n",
       "        vertical-align: top;\n",
       "    }\n",
       "\n",
       "    .dataframe thead th {\n",
       "        text-align: right;\n",
       "    }\n",
       "</style>\n",
       "<table border=\"1\" class=\"dataframe\">\n",
       "  <thead>\n",
       "    <tr style=\"text-align: right;\">\n",
       "      <th></th>\n",
       "      <th>city_x</th>\n",
       "      <th>identified</th>\n",
       "      <th>recovered</th>\n",
       "      <th>died</th>\n",
       "      <th>new</th>\n",
       "      <th>recovered_day</th>\n",
       "      <th>died_day</th>\n",
       "      <th>population_density</th>\n",
       "      <th>population</th>\n",
       "      <th>area</th>\n",
       "      <th>federal district</th>\n",
       "      <th>total</th>\n",
       "      <th>city_y</th>\n",
       "      <th>geo_lat</th>\n",
       "      <th>geo_lon</th>\n",
       "    </tr>\n",
       "  </thead>\n",
       "  <tbody>\n",
       "    <tr>\n",
       "      <th>0</th>\n",
       "      <td>Москва</td>\n",
       "      <td>1530989</td>\n",
       "      <td>1395285</td>\n",
       "      <td>26309</td>\n",
       "      <td>1639</td>\n",
       "      <td>3072</td>\n",
       "      <td>61</td>\n",
       "      <td>4956,06</td>\n",
       "      <td>12692466</td>\n",
       "      <td>2561</td>\n",
       "      <td>ЦФО</td>\n",
       "      <td>0.012913</td>\n",
       "      <td>Москва</td>\n",
       "      <td>55.754047</td>\n",
       "      <td>37.620405</td>\n",
       "    </tr>\n",
       "    <tr>\n",
       "      <th>1</th>\n",
       "      <td>Санкт-Петербург</td>\n",
       "      <td>547704</td>\n",
       "      <td>519868</td>\n",
       "      <td>19757</td>\n",
       "      <td>1811</td>\n",
       "      <td>1972</td>\n",
       "      <td>49</td>\n",
       "      <td>3843,90</td>\n",
       "      <td>5392992</td>\n",
       "      <td>1403</td>\n",
       "      <td>СЗФО</td>\n",
       "      <td>0.033581</td>\n",
       "      <td>Московская область</td>\n",
       "      <td>55.831720</td>\n",
       "      <td>37.329527</td>\n",
       "    </tr>\n",
       "    <tr>\n",
       "      <th>2</th>\n",
       "      <td>Московскаяобласть</td>\n",
       "      <td>400007</td>\n",
       "      <td>330540</td>\n",
       "      <td>7491</td>\n",
       "      <td>1309</td>\n",
       "      <td>1922</td>\n",
       "      <td>29</td>\n",
       "      <td>17342</td>\n",
       "      <td>7687647</td>\n",
       "      <td>44329</td>\n",
       "      <td>ЦФО</td>\n",
       "      <td>0.017027</td>\n",
       "      <td>Санкт-Петербург</td>\n",
       "      <td>59.939131</td>\n",
       "      <td>30.315900</td>\n",
       "    </tr>\n",
       "    <tr>\n",
       "      <th>3</th>\n",
       "      <td>Нижегородскаяобласть</td>\n",
       "      <td>145993</td>\n",
       "      <td>132727</td>\n",
       "      <td>5325</td>\n",
       "      <td>537</td>\n",
       "      <td>425</td>\n",
       "      <td>25</td>\n",
       "      <td>4181</td>\n",
       "      <td>3203818</td>\n",
       "      <td>76624</td>\n",
       "      <td>ПФО</td>\n",
       "      <td>0.016761</td>\n",
       "      <td>Нижегородская область</td>\n",
       "      <td>56.324063</td>\n",
       "      <td>44.005391</td>\n",
       "    </tr>\n",
       "    <tr>\n",
       "      <th>4</th>\n",
       "      <td>Ростовскаяобласть</td>\n",
       "      <td>114218</td>\n",
       "      <td>100373</td>\n",
       "      <td>5412</td>\n",
       "      <td>479</td>\n",
       "      <td>374</td>\n",
       "      <td>26</td>\n",
       "      <td>4155</td>\n",
       "      <td>4195327</td>\n",
       "      <td>100967</td>\n",
       "      <td>ЮФО</td>\n",
       "      <td>0.011417</td>\n",
       "      <td>Свердловская область</td>\n",
       "      <td>56.838522</td>\n",
       "      <td>60.605491</td>\n",
       "    </tr>\n",
       "  </tbody>\n",
       "</table>\n",
       "</div>"
      ],
      "text/plain": [
       "                 city_x  identified  recovered   died   new  recovered_day  \\\n",
       "0                Москва     1530989    1395285  26309  1639           3072   \n",
       "1       Санкт-Петербург      547704     519868  19757  1811           1972   \n",
       "2     Московскаяобласть      400007     330540   7491  1309           1922   \n",
       "3  Нижегородскаяобласть      145993     132727   5325   537            425   \n",
       "4     Ростовскаяобласть      114218     100373   5412   479            374   \n",
       "\n",
       "   died_day population_density  population    area federal district     total  \\\n",
       "0        61            4956,06    12692466    2561              ЦФО  0.012913   \n",
       "1        49            3843,90     5392992    1403             СЗФО  0.033581   \n",
       "2        29              17342     7687647   44329              ЦФО  0.017027   \n",
       "3        25               4181     3203818   76624              ПФО  0.016761   \n",
       "4        26               4155     4195327  100967              ЮФО  0.011417   \n",
       "\n",
       "                  city_y    geo_lat    geo_lon  \n",
       "0                 Москва  55.754047  37.620405  \n",
       "1     Московская область  55.831720  37.329527  \n",
       "2        Санкт-Петербург  59.939131  30.315900  \n",
       "3  Нижегородская область  56.324063  44.005391  \n",
       "4   Свердловская область  56.838522  60.605491  "
      ]
     },
     "execution_count": 10,
     "metadata": {},
     "output_type": "execute_result"
    }
   ],
   "source": [
    "#Объединяем DataFrame\n",
    "total_tab = new_tr.merge(city_loc_df, how=\"inner\", left_index=True, right_index=True)\n",
    "\n",
    "total_tab.head()\n",
    "\n",
    "# total - вероятность заболеть"
   ]
  },
  {
   "cell_type": "code",
   "execution_count": 37,
   "metadata": {},
   "outputs": [
    {
     "data": {
      "application/vnd.plotly.v1+json": {
       "config": {
        "plotlyServerURL": "https://plot.ly"
       },
       "data": [
        {
         "customdata": [
          [
           "Москва",
           1639
          ],
          [
           "Московская область",
           1811
          ],
          [
           "Санкт-Петербург",
           1309
          ],
          [
           "Нижегородская область",
           537
          ],
          [
           "Свердловская область",
           479
          ],
          [
           "Ростовская область",
           518
          ],
          [
           "Красноярский край",
           468
          ],
          [
           "Воронежская область",
           464
          ],
          [
           "Иркутская область",
           393
          ],
          [
           "Ставропольский край",
           449
          ],
          [
           "Ульяновская область",
           476
          ],
          [
           "Мурманская область",
           250
          ],
          [
           "Волгоградская область",
           329
          ],
          [
           "Саратовская область",
           320
          ],
          [
           "Алтайский край",
           272
          ],
          [
           "Хабаровский край",
           335
          ],
          [
           "Оренбургская область",
           387
          ],
          [
           "Новосибирская область",
           274
          ],
          [
           "Омская область",
           228
          ],
          [
           "Краснодарский край",
           394
          ],
          [
           "Самарская область",
           257
          ],
          [
           "Приморский край",
           354
          ],
          [
           "Кемеровская область",
           258
          ],
          [
           "Республика Коми",
           239
          ],
          [
           "Пензенская область",
           232
          ],
          [
           "Пермский край",
           279
          ],
          [
           "Республика Саха (Якутия)",
           173
          ],
          [
           "Республика Дагестан",
           254
          ],
          [
           "Забайкальский край",
           224
          ],
          [
           "Томская область",
           228
          ],
          [
           "Кировская область",
           240
          ],
          [
           "Брянская область",
           198
          ],
          [
           "Ленинградская область",
           197
          ],
          [
           "Тульская область",
           125
          ],
          [
           "Ярославская область",
           131
          ],
          [
           "Орловская область",
           192
          ],
          [
           "Белгородская область",
           194
          ],
          [
           "Калужская область",
           287
          ],
          [
           "Ивановская область",
           153
          ],
          [
           "Курская область",
           139
          ],
          [
           "Республика Крым",
           201
          ],
          [
           "Тверская область",
           184
          ],
          [
           "Рязанская область",
           106
          ],
          [
           "Астраханская область",
           205
          ],
          [
           "Республика Карелия",
           121
          ],
          [
           "Тамбовская область",
           120
          ],
          [
           "Владимирская область",
           128
          ],
          [
           "Удмуртская Республика",
           238
          ],
          [
           "Республика Тыва",
           205
          ],
          [
           "Смоленская область",
           99
          ],
          [
           "Псковская область",
           90
          ],
          [
           "Республика Калмыкия",
           123
          ],
          [
           "Республика Хакасия",
           127
          ],
          [
           "Новгородская область",
           122
          ],
          [
           "Республика Алтай",
           169
          ],
          [
           "Костромская область",
           141
          ],
          [
           "Сахалинская область",
           135
          ],
          [
           "Вологодская область",
           111
          ],
          [
           "Липецкая область",
           127
          ],
          [
           "Амурская область",
           111
          ],
          [
           "Калининградская область",
           71
          ],
          [
           "Республика Мордовия",
           49
          ],
          [
           "Республика Татарстан",
           124
          ],
          [
           "Республика Ингушетия",
           219
          ],
          [
           "Курганская область",
           41
          ],
          [
           "Республика Адыгея",
           61
          ],
          [
           "Республика Марий Эл",
           55
          ],
          [
           "Камчатский край",
           141
          ],
          [
           "Магаданская область",
           61
          ],
          [
           "Севастополь",
           61
          ],
          [
           "Чеченская Республика",
           29
          ],
          [
           "Ненецкий автономный округ",
           10
          ],
          [
           "Чукотский автономный округ",
           2
          ]
         ],
         "hovertemplate": "<b>%{hovertext}</b><br><br>new=%{customdata[1]}<br>geo_lat=%{lat}<br>geo_lon=%{lon}<br>city_y=%{customdata[0]}<extra></extra>",
         "hovertext": [
          "0.012913172270857372",
          "0.033580617215823796",
          "0.017027316680903792",
          "0.016761251731527822",
          "0.01141746519401229",
          "0.012016161040683057",
          "0.020140666199873734",
          "0.01617922677940984",
          "0.01643782674363306",
          "0.014123822831269704",
          "0.018312615583958917",
          "0.01032296425983314",
          "0.01320356648798375",
          "0.024328865438565814",
          "0.02211944990879793",
          "0.011951391017049106",
          "0.02008759645420184",
          "0.011825371204444268",
          "0.030748026664472947",
          "0.02060642512519449",
          "0.004526412231810075",
          "0.018095791143899368",
          "0.02434750112536415",
          "0.018316632498610926",
          "0.01236415418526619",
          "0.03401729639306925",
          "0.028147106867894078",
          "0.013401536955793394",
          "0.01929834990492978",
          "0.019118374602748685",
          "0.019042405055758542",
          "0.007075848449620852",
          "0.015719895402848252",
          "0.009900605837872431",
          "0.008935727562626831",
          "0.01740614056002444",
          "0.0072993854218480385",
          "0.028529762904747374",
          "0.009886709935561913",
          "0.014328345900701471",
          "0.014795316730190838",
          "0.018177273863352342",
          "0.016931663168521162",
          "0.006588773437150976",
          "0.01294467914847547",
          "0.012033742614290471",
          "0.012799104062715609",
          "0.020886500300133743",
          "0.013657516130858992",
          "0.013493584413955909",
          "0.008937775208994978",
          "0.011398905149061537",
          "0.02130254137641255",
          "0.011001655658999174",
          "0.031636920473393164",
          "0.01783284177083913",
          "0.021313815141334274",
          "0.02272480668559718",
          "0.01535780666335325",
          "0.04095412031656428",
          "0.008977920637710555",
          "0.0012555596952013534",
          "0.037875548279106136",
          "0.04879363855722336",
          "0.018624511674389024",
          "0.01203896678034609",
          "0.01760349253291853",
          "0.009547980974462876",
          "0.013162068214036805",
          "0.00898255617042707",
          "0.020684883629697785",
          "0.022670596236681023",
          "0.0039427512518235225"
         ],
         "lat": [
          55.7540471,
          55.8317203,
          59.9391313,
          56.3240627,
          56.8385216,
          47.2224566,
          56.0093879,
          51.6593332,
          52.2864036,
          45.044516,
          54.3079415,
          69.007721,
          48.7070042,
          51.5303047,
          51.9581028,
          48.4647258,
          51.7875092,
          55.028191,
          54.9848566,
          45.0401604,
          53.1950306,
          43.1164904,
          55.3910651,
          61.6686617,
          53.1753314,
          58.0102583,
          62.0281405,
          42.9849159,
          52.0340142,
          56.4845804,
          58.6035264,
          53.2419535,
          60.0191278,
          54.1920559,
          57.6215477,
          52.9671298,
          50.5976472,
          54.5059848,
          56.9993792,
          51.7303637,
          44.9482948,
          56.8586059,
          54.6254445,
          46.3655652,
          61.7891264,
          52.7213154,
          56.1280804,
          56.852738,
          51.7191047,
          54.7866913,
          57.8194415,
          46.3083344,
          53.7223325,
          58.5213846,
          51.9581028,
          40.9908264,
          46.9591631,
          48.7070042,
          52.610249,
          50.290659,
          54.7074702,
          54.1809332,
          49.1114975,
          43.1688611,
          55.4443883,
          44.6098268,
          56.6343662,
          53.036908,
          59.5681332,
          44.6167013,
          43.3180145,
          67.6379672,
          64.7313924
         ],
         "legendgroup": "",
         "lon": [
          37.620405,
          37.3295266,
          30.3159004,
          44.0053913,
          60.6054911,
          39.718803,
          92.8524806,
          39.1969229,
          104.2807466,
          41.9689655,
          48.3748487,
          33.0685865,
          44.5170339,
          45.9529348,
          85.9603235,
          135.0598942,
          55.1018828,
          82.9211489,
          73.3674517,
          38.9759647,
          50.1069518,
          131.8823937,
          86.0467781,
          50.8358151,
          45.0348625,
          56.2342034,
          129.7325887,
          47.5047181,
          113.4994,
          84.9481582,
          49.6679304,
          34.3652146,
          30.6456718,
          37.6153842,
          39.8977411,
          36.0696427,
          36.5856652,
          36.2516245,
          40.9728272,
          36.1925603,
          34.1001151,
          35.9116761,
          39.7358609,
          48.0559236,
          34.3596434,
          41.452264,
          40.4084376,
          53.2114896,
          94.4376882,
          31.8152477,
          28.3317198,
          44.2702088,
          91.4436721,
          31.2755394,
          85.9603235,
          268617,
          142.737976,
          44.5170339,
          39.5947883,
          127.527198,
          20.5073241,
          45.1862632,
          1216965,
          44.8131207,
          65.3161963,
          40.1006606,
          47.8999706,
          158.6559254,
          150.8084956,
          33.525355,
          45.698291,
          53.0069565,
          177.5015421
         ],
         "marker": {
          "color": "fuchsia",
          "size": [
           1639,
           1811,
           1309,
           537,
           479,
           518,
           468,
           464,
           393,
           449,
           476,
           250,
           329,
           320,
           272,
           335,
           387,
           274,
           228,
           394,
           257,
           354,
           258,
           239,
           232,
           279,
           173,
           254,
           224,
           228,
           240,
           198,
           197,
           125,
           131,
           192,
           194,
           287,
           153,
           139,
           201,
           184,
           106,
           205,
           121,
           120,
           128,
           238,
           205,
           99,
           90,
           123,
           127,
           122,
           169,
           141,
           135,
           111,
           127,
           111,
           71,
           49,
           124,
           219,
           41,
           61,
           55,
           141,
           61,
           61,
           29,
           10,
           2
          ],
          "sizemode": "area",
          "sizeref": 4.5275
         },
         "mode": "markers",
         "name": "",
         "showlegend": false,
         "subplot": "mapbox",
         "type": "scattermapbox"
        }
       ],
       "layout": {
        "height": 500,
        "legend": {
         "itemsizing": "constant",
         "tracegroupgap": 0
        },
        "mapbox": {
         "center": {
          "lat": 53.31153734246575,
          "lon": 20409.581530704112
         },
         "domain": {
          "x": [
           0,
           1
          ],
          "y": [
           0,
           1
          ]
         },
         "style": "open-street-map",
         "zoom": 3
        },
        "margin": {
         "b": 0,
         "l": 0,
         "r": 0,
         "t": 0
        },
        "template": {
         "data": {
          "bar": [
           {
            "error_x": {
             "color": "#2a3f5f"
            },
            "error_y": {
             "color": "#2a3f5f"
            },
            "marker": {
             "line": {
              "color": "#E5ECF6",
              "width": 0.5
             },
             "pattern": {
              "fillmode": "overlay",
              "size": 10,
              "solidity": 0.2
             }
            },
            "type": "bar"
           }
          ],
          "barpolar": [
           {
            "marker": {
             "line": {
              "color": "#E5ECF6",
              "width": 0.5
             },
             "pattern": {
              "fillmode": "overlay",
              "size": 10,
              "solidity": 0.2
             }
            },
            "type": "barpolar"
           }
          ],
          "carpet": [
           {
            "aaxis": {
             "endlinecolor": "#2a3f5f",
             "gridcolor": "white",
             "linecolor": "white",
             "minorgridcolor": "white",
             "startlinecolor": "#2a3f5f"
            },
            "baxis": {
             "endlinecolor": "#2a3f5f",
             "gridcolor": "white",
             "linecolor": "white",
             "minorgridcolor": "white",
             "startlinecolor": "#2a3f5f"
            },
            "type": "carpet"
           }
          ],
          "choropleth": [
           {
            "colorbar": {
             "outlinewidth": 0,
             "ticks": ""
            },
            "type": "choropleth"
           }
          ],
          "contour": [
           {
            "colorbar": {
             "outlinewidth": 0,
             "ticks": ""
            },
            "colorscale": [
             [
              0,
              "#0d0887"
             ],
             [
              0.1111111111111111,
              "#46039f"
             ],
             [
              0.2222222222222222,
              "#7201a8"
             ],
             [
              0.3333333333333333,
              "#9c179e"
             ],
             [
              0.4444444444444444,
              "#bd3786"
             ],
             [
              0.5555555555555556,
              "#d8576b"
             ],
             [
              0.6666666666666666,
              "#ed7953"
             ],
             [
              0.7777777777777778,
              "#fb9f3a"
             ],
             [
              0.8888888888888888,
              "#fdca26"
             ],
             [
              1,
              "#f0f921"
             ]
            ],
            "type": "contour"
           }
          ],
          "contourcarpet": [
           {
            "colorbar": {
             "outlinewidth": 0,
             "ticks": ""
            },
            "type": "contourcarpet"
           }
          ],
          "heatmap": [
           {
            "colorbar": {
             "outlinewidth": 0,
             "ticks": ""
            },
            "colorscale": [
             [
              0,
              "#0d0887"
             ],
             [
              0.1111111111111111,
              "#46039f"
             ],
             [
              0.2222222222222222,
              "#7201a8"
             ],
             [
              0.3333333333333333,
              "#9c179e"
             ],
             [
              0.4444444444444444,
              "#bd3786"
             ],
             [
              0.5555555555555556,
              "#d8576b"
             ],
             [
              0.6666666666666666,
              "#ed7953"
             ],
             [
              0.7777777777777778,
              "#fb9f3a"
             ],
             [
              0.8888888888888888,
              "#fdca26"
             ],
             [
              1,
              "#f0f921"
             ]
            ],
            "type": "heatmap"
           }
          ],
          "heatmapgl": [
           {
            "colorbar": {
             "outlinewidth": 0,
             "ticks": ""
            },
            "colorscale": [
             [
              0,
              "#0d0887"
             ],
             [
              0.1111111111111111,
              "#46039f"
             ],
             [
              0.2222222222222222,
              "#7201a8"
             ],
             [
              0.3333333333333333,
              "#9c179e"
             ],
             [
              0.4444444444444444,
              "#bd3786"
             ],
             [
              0.5555555555555556,
              "#d8576b"
             ],
             [
              0.6666666666666666,
              "#ed7953"
             ],
             [
              0.7777777777777778,
              "#fb9f3a"
             ],
             [
              0.8888888888888888,
              "#fdca26"
             ],
             [
              1,
              "#f0f921"
             ]
            ],
            "type": "heatmapgl"
           }
          ],
          "histogram": [
           {
            "marker": {
             "pattern": {
              "fillmode": "overlay",
              "size": 10,
              "solidity": 0.2
             }
            },
            "type": "histogram"
           }
          ],
          "histogram2d": [
           {
            "colorbar": {
             "outlinewidth": 0,
             "ticks": ""
            },
            "colorscale": [
             [
              0,
              "#0d0887"
             ],
             [
              0.1111111111111111,
              "#46039f"
             ],
             [
              0.2222222222222222,
              "#7201a8"
             ],
             [
              0.3333333333333333,
              "#9c179e"
             ],
             [
              0.4444444444444444,
              "#bd3786"
             ],
             [
              0.5555555555555556,
              "#d8576b"
             ],
             [
              0.6666666666666666,
              "#ed7953"
             ],
             [
              0.7777777777777778,
              "#fb9f3a"
             ],
             [
              0.8888888888888888,
              "#fdca26"
             ],
             [
              1,
              "#f0f921"
             ]
            ],
            "type": "histogram2d"
           }
          ],
          "histogram2dcontour": [
           {
            "colorbar": {
             "outlinewidth": 0,
             "ticks": ""
            },
            "colorscale": [
             [
              0,
              "#0d0887"
             ],
             [
              0.1111111111111111,
              "#46039f"
             ],
             [
              0.2222222222222222,
              "#7201a8"
             ],
             [
              0.3333333333333333,
              "#9c179e"
             ],
             [
              0.4444444444444444,
              "#bd3786"
             ],
             [
              0.5555555555555556,
              "#d8576b"
             ],
             [
              0.6666666666666666,
              "#ed7953"
             ],
             [
              0.7777777777777778,
              "#fb9f3a"
             ],
             [
              0.8888888888888888,
              "#fdca26"
             ],
             [
              1,
              "#f0f921"
             ]
            ],
            "type": "histogram2dcontour"
           }
          ],
          "mesh3d": [
           {
            "colorbar": {
             "outlinewidth": 0,
             "ticks": ""
            },
            "type": "mesh3d"
           }
          ],
          "parcoords": [
           {
            "line": {
             "colorbar": {
              "outlinewidth": 0,
              "ticks": ""
             }
            },
            "type": "parcoords"
           }
          ],
          "pie": [
           {
            "automargin": true,
            "type": "pie"
           }
          ],
          "scatter": [
           {
            "marker": {
             "colorbar": {
              "outlinewidth": 0,
              "ticks": ""
             }
            },
            "type": "scatter"
           }
          ],
          "scatter3d": [
           {
            "line": {
             "colorbar": {
              "outlinewidth": 0,
              "ticks": ""
             }
            },
            "marker": {
             "colorbar": {
              "outlinewidth": 0,
              "ticks": ""
             }
            },
            "type": "scatter3d"
           }
          ],
          "scattercarpet": [
           {
            "marker": {
             "colorbar": {
              "outlinewidth": 0,
              "ticks": ""
             }
            },
            "type": "scattercarpet"
           }
          ],
          "scattergeo": [
           {
            "marker": {
             "colorbar": {
              "outlinewidth": 0,
              "ticks": ""
             }
            },
            "type": "scattergeo"
           }
          ],
          "scattergl": [
           {
            "marker": {
             "colorbar": {
              "outlinewidth": 0,
              "ticks": ""
             }
            },
            "type": "scattergl"
           }
          ],
          "scattermapbox": [
           {
            "marker": {
             "colorbar": {
              "outlinewidth": 0,
              "ticks": ""
             }
            },
            "type": "scattermapbox"
           }
          ],
          "scatterpolar": [
           {
            "marker": {
             "colorbar": {
              "outlinewidth": 0,
              "ticks": ""
             }
            },
            "type": "scatterpolar"
           }
          ],
          "scatterpolargl": [
           {
            "marker": {
             "colorbar": {
              "outlinewidth": 0,
              "ticks": ""
             }
            },
            "type": "scatterpolargl"
           }
          ],
          "scatterternary": [
           {
            "marker": {
             "colorbar": {
              "outlinewidth": 0,
              "ticks": ""
             }
            },
            "type": "scatterternary"
           }
          ],
          "surface": [
           {
            "colorbar": {
             "outlinewidth": 0,
             "ticks": ""
            },
            "colorscale": [
             [
              0,
              "#0d0887"
             ],
             [
              0.1111111111111111,
              "#46039f"
             ],
             [
              0.2222222222222222,
              "#7201a8"
             ],
             [
              0.3333333333333333,
              "#9c179e"
             ],
             [
              0.4444444444444444,
              "#bd3786"
             ],
             [
              0.5555555555555556,
              "#d8576b"
             ],
             [
              0.6666666666666666,
              "#ed7953"
             ],
             [
              0.7777777777777778,
              "#fb9f3a"
             ],
             [
              0.8888888888888888,
              "#fdca26"
             ],
             [
              1,
              "#f0f921"
             ]
            ],
            "type": "surface"
           }
          ],
          "table": [
           {
            "cells": {
             "fill": {
              "color": "#EBF0F8"
             },
             "line": {
              "color": "white"
             }
            },
            "header": {
             "fill": {
              "color": "#C8D4E3"
             },
             "line": {
              "color": "white"
             }
            },
            "type": "table"
           }
          ]
         },
         "layout": {
          "annotationdefaults": {
           "arrowcolor": "#2a3f5f",
           "arrowhead": 0,
           "arrowwidth": 1
          },
          "autotypenumbers": "strict",
          "coloraxis": {
           "colorbar": {
            "outlinewidth": 0,
            "ticks": ""
           }
          },
          "colorscale": {
           "diverging": [
            [
             0,
             "#8e0152"
            ],
            [
             0.1,
             "#c51b7d"
            ],
            [
             0.2,
             "#de77ae"
            ],
            [
             0.3,
             "#f1b6da"
            ],
            [
             0.4,
             "#fde0ef"
            ],
            [
             0.5,
             "#f7f7f7"
            ],
            [
             0.6,
             "#e6f5d0"
            ],
            [
             0.7,
             "#b8e186"
            ],
            [
             0.8,
             "#7fbc41"
            ],
            [
             0.9,
             "#4d9221"
            ],
            [
             1,
             "#276419"
            ]
           ],
           "sequential": [
            [
             0,
             "#0d0887"
            ],
            [
             0.1111111111111111,
             "#46039f"
            ],
            [
             0.2222222222222222,
             "#7201a8"
            ],
            [
             0.3333333333333333,
             "#9c179e"
            ],
            [
             0.4444444444444444,
             "#bd3786"
            ],
            [
             0.5555555555555556,
             "#d8576b"
            ],
            [
             0.6666666666666666,
             "#ed7953"
            ],
            [
             0.7777777777777778,
             "#fb9f3a"
            ],
            [
             0.8888888888888888,
             "#fdca26"
            ],
            [
             1,
             "#f0f921"
            ]
           ],
           "sequentialminus": [
            [
             0,
             "#0d0887"
            ],
            [
             0.1111111111111111,
             "#46039f"
            ],
            [
             0.2222222222222222,
             "#7201a8"
            ],
            [
             0.3333333333333333,
             "#9c179e"
            ],
            [
             0.4444444444444444,
             "#bd3786"
            ],
            [
             0.5555555555555556,
             "#d8576b"
            ],
            [
             0.6666666666666666,
             "#ed7953"
            ],
            [
             0.7777777777777778,
             "#fb9f3a"
            ],
            [
             0.8888888888888888,
             "#fdca26"
            ],
            [
             1,
             "#f0f921"
            ]
           ]
          },
          "colorway": [
           "#636efa",
           "#EF553B",
           "#00cc96",
           "#ab63fa",
           "#FFA15A",
           "#19d3f3",
           "#FF6692",
           "#B6E880",
           "#FF97FF",
           "#FECB52"
          ],
          "font": {
           "color": "#2a3f5f"
          },
          "geo": {
           "bgcolor": "white",
           "lakecolor": "white",
           "landcolor": "#E5ECF6",
           "showlakes": true,
           "showland": true,
           "subunitcolor": "white"
          },
          "hoverlabel": {
           "align": "left"
          },
          "hovermode": "closest",
          "mapbox": {
           "style": "light"
          },
          "paper_bgcolor": "white",
          "plot_bgcolor": "#E5ECF6",
          "polar": {
           "angularaxis": {
            "gridcolor": "white",
            "linecolor": "white",
            "ticks": ""
           },
           "bgcolor": "#E5ECF6",
           "radialaxis": {
            "gridcolor": "white",
            "linecolor": "white",
            "ticks": ""
           }
          },
          "scene": {
           "xaxis": {
            "backgroundcolor": "#E5ECF6",
            "gridcolor": "white",
            "gridwidth": 2,
            "linecolor": "white",
            "showbackground": true,
            "ticks": "",
            "zerolinecolor": "white"
           },
           "yaxis": {
            "backgroundcolor": "#E5ECF6",
            "gridcolor": "white",
            "gridwidth": 2,
            "linecolor": "white",
            "showbackground": true,
            "ticks": "",
            "zerolinecolor": "white"
           },
           "zaxis": {
            "backgroundcolor": "#E5ECF6",
            "gridcolor": "white",
            "gridwidth": 2,
            "linecolor": "white",
            "showbackground": true,
            "ticks": "",
            "zerolinecolor": "white"
           }
          },
          "shapedefaults": {
           "line": {
            "color": "#2a3f5f"
           }
          },
          "ternary": {
           "aaxis": {
            "gridcolor": "white",
            "linecolor": "white",
            "ticks": ""
           },
           "baxis": {
            "gridcolor": "white",
            "linecolor": "white",
            "ticks": ""
           },
           "bgcolor": "#E5ECF6",
           "caxis": {
            "gridcolor": "white",
            "linecolor": "white",
            "ticks": ""
           }
          },
          "title": {
           "x": 0.05
          },
          "xaxis": {
           "automargin": true,
           "gridcolor": "white",
           "linecolor": "white",
           "ticks": "",
           "title": {
            "standoff": 15
           },
           "zerolinecolor": "white",
           "zerolinewidth": 2
          },
          "yaxis": {
           "automargin": true,
           "gridcolor": "white",
           "linecolor": "white",
           "ticks": "",
           "title": {
            "standoff": 15
           },
           "zerolinecolor": "white",
           "zerolinewidth": 2
          }
         }
        }
       }
      },
      "text/html": [
       "<div>                            <div id=\"c8457bbb-de06-4054-b56a-dac1ebdab08b\" class=\"plotly-graph-div\" style=\"height:500px; width:100%;\"></div>            <script type=\"text/javascript\">                require([\"plotly\"], function(Plotly) {                    window.PLOTLYENV=window.PLOTLYENV || {};                                    if (document.getElementById(\"c8457bbb-de06-4054-b56a-dac1ebdab08b\")) {                    Plotly.newPlot(                        \"c8457bbb-de06-4054-b56a-dac1ebdab08b\",                        [{\"customdata\":[[\"\\u041c\\u043e\\u0441\\u043a\\u0432\\u0430\",1639],[\"\\u041c\\u043e\\u0441\\u043a\\u043e\\u0432\\u0441\\u043a\\u0430\\u044f \\u043e\\u0431\\u043b\\u0430\\u0441\\u0442\\u044c\",1811],[\"\\u0421\\u0430\\u043d\\u043a\\u0442-\\u041f\\u0435\\u0442\\u0435\\u0440\\u0431\\u0443\\u0440\\u0433\",1309],[\"\\u041d\\u0438\\u0436\\u0435\\u0433\\u043e\\u0440\\u043e\\u0434\\u0441\\u043a\\u0430\\u044f \\u043e\\u0431\\u043b\\u0430\\u0441\\u0442\\u044c\",537],[\"\\u0421\\u0432\\u0435\\u0440\\u0434\\u043b\\u043e\\u0432\\u0441\\u043a\\u0430\\u044f \\u043e\\u0431\\u043b\\u0430\\u0441\\u0442\\u044c\",479],[\"\\u0420\\u043e\\u0441\\u0442\\u043e\\u0432\\u0441\\u043a\\u0430\\u044f \\u043e\\u0431\\u043b\\u0430\\u0441\\u0442\\u044c\",518],[\"\\u041a\\u0440\\u0430\\u0441\\u043d\\u043e\\u044f\\u0440\\u0441\\u043a\\u0438\\u0439 \\u043a\\u0440\\u0430\\u0439\",468],[\"\\u0412\\u043e\\u0440\\u043e\\u043d\\u0435\\u0436\\u0441\\u043a\\u0430\\u044f \\u043e\\u0431\\u043b\\u0430\\u0441\\u0442\\u044c\",464],[\"\\u0418\\u0440\\u043a\\u0443\\u0442\\u0441\\u043a\\u0430\\u044f \\u043e\\u0431\\u043b\\u0430\\u0441\\u0442\\u044c\",393],[\"\\u0421\\u0442\\u0430\\u0432\\u0440\\u043e\\u043f\\u043e\\u043b\\u044c\\u0441\\u043a\\u0438\\u0439 \\u043a\\u0440\\u0430\\u0439\",449],[\"\\u0423\\u043b\\u044c\\u044f\\u043d\\u043e\\u0432\\u0441\\u043a\\u0430\\u044f \\u043e\\u0431\\u043b\\u0430\\u0441\\u0442\\u044c\",476],[\"\\u041c\\u0443\\u0440\\u043c\\u0430\\u043d\\u0441\\u043a\\u0430\\u044f \\u043e\\u0431\\u043b\\u0430\\u0441\\u0442\\u044c\",250],[\"\\u0412\\u043e\\u043b\\u0433\\u043e\\u0433\\u0440\\u0430\\u0434\\u0441\\u043a\\u0430\\u044f \\u043e\\u0431\\u043b\\u0430\\u0441\\u0442\\u044c\",329],[\"\\u0421\\u0430\\u0440\\u0430\\u0442\\u043e\\u0432\\u0441\\u043a\\u0430\\u044f \\u043e\\u0431\\u043b\\u0430\\u0441\\u0442\\u044c\",320],[\"\\u0410\\u043b\\u0442\\u0430\\u0439\\u0441\\u043a\\u0438\\u0439 \\u043a\\u0440\\u0430\\u0439\",272],[\"\\u0425\\u0430\\u0431\\u0430\\u0440\\u043e\\u0432\\u0441\\u043a\\u0438\\u0439 \\u043a\\u0440\\u0430\\u0439\",335],[\"\\u041e\\u0440\\u0435\\u043d\\u0431\\u0443\\u0440\\u0433\\u0441\\u043a\\u0430\\u044f \\u043e\\u0431\\u043b\\u0430\\u0441\\u0442\\u044c\",387],[\"\\u041d\\u043e\\u0432\\u043e\\u0441\\u0438\\u0431\\u0438\\u0440\\u0441\\u043a\\u0430\\u044f \\u043e\\u0431\\u043b\\u0430\\u0441\\u0442\\u044c\",274],[\"\\u041e\\u043c\\u0441\\u043a\\u0430\\u044f \\u043e\\u0431\\u043b\\u0430\\u0441\\u0442\\u044c\",228],[\"\\u041a\\u0440\\u0430\\u0441\\u043d\\u043e\\u0434\\u0430\\u0440\\u0441\\u043a\\u0438\\u0439 \\u043a\\u0440\\u0430\\u0439\",394],[\"\\u0421\\u0430\\u043c\\u0430\\u0440\\u0441\\u043a\\u0430\\u044f \\u043e\\u0431\\u043b\\u0430\\u0441\\u0442\\u044c\",257],[\"\\u041f\\u0440\\u0438\\u043c\\u043e\\u0440\\u0441\\u043a\\u0438\\u0439 \\u043a\\u0440\\u0430\\u0439\",354],[\"\\u041a\\u0435\\u043c\\u0435\\u0440\\u043e\\u0432\\u0441\\u043a\\u0430\\u044f \\u043e\\u0431\\u043b\\u0430\\u0441\\u0442\\u044c\",258],[\"\\u0420\\u0435\\u0441\\u043f\\u0443\\u0431\\u043b\\u0438\\u043a\\u0430 \\u041a\\u043e\\u043c\\u0438\",239],[\"\\u041f\\u0435\\u043d\\u0437\\u0435\\u043d\\u0441\\u043a\\u0430\\u044f \\u043e\\u0431\\u043b\\u0430\\u0441\\u0442\\u044c\",232],[\"\\u041f\\u0435\\u0440\\u043c\\u0441\\u043a\\u0438\\u0439 \\u043a\\u0440\\u0430\\u0439\",279],[\"\\u0420\\u0435\\u0441\\u043f\\u0443\\u0431\\u043b\\u0438\\u043a\\u0430 \\u0421\\u0430\\u0445\\u0430 (\\u042f\\u043a\\u0443\\u0442\\u0438\\u044f)\",173],[\"\\u0420\\u0435\\u0441\\u043f\\u0443\\u0431\\u043b\\u0438\\u043a\\u0430 \\u0414\\u0430\\u0433\\u0435\\u0441\\u0442\\u0430\\u043d\",254],[\"\\u0417\\u0430\\u0431\\u0430\\u0439\\u043a\\u0430\\u043b\\u044c\\u0441\\u043a\\u0438\\u0439 \\u043a\\u0440\\u0430\\u0439\",224],[\"\\u0422\\u043e\\u043c\\u0441\\u043a\\u0430\\u044f \\u043e\\u0431\\u043b\\u0430\\u0441\\u0442\\u044c\",228],[\"\\u041a\\u0438\\u0440\\u043e\\u0432\\u0441\\u043a\\u0430\\u044f \\u043e\\u0431\\u043b\\u0430\\u0441\\u0442\\u044c\",240],[\"\\u0411\\u0440\\u044f\\u043d\\u0441\\u043a\\u0430\\u044f \\u043e\\u0431\\u043b\\u0430\\u0441\\u0442\\u044c\",198],[\"\\u041b\\u0435\\u043d\\u0438\\u043d\\u0433\\u0440\\u0430\\u0434\\u0441\\u043a\\u0430\\u044f \\u043e\\u0431\\u043b\\u0430\\u0441\\u0442\\u044c\",197],[\"\\u0422\\u0443\\u043b\\u044c\\u0441\\u043a\\u0430\\u044f \\u043e\\u0431\\u043b\\u0430\\u0441\\u0442\\u044c\",125],[\"\\u042f\\u0440\\u043e\\u0441\\u043b\\u0430\\u0432\\u0441\\u043a\\u0430\\u044f \\u043e\\u0431\\u043b\\u0430\\u0441\\u0442\\u044c\",131],[\"\\u041e\\u0440\\u043b\\u043e\\u0432\\u0441\\u043a\\u0430\\u044f \\u043e\\u0431\\u043b\\u0430\\u0441\\u0442\\u044c\",192],[\"\\u0411\\u0435\\u043b\\u0433\\u043e\\u0440\\u043e\\u0434\\u0441\\u043a\\u0430\\u044f \\u043e\\u0431\\u043b\\u0430\\u0441\\u0442\\u044c\",194],[\"\\u041a\\u0430\\u043b\\u0443\\u0436\\u0441\\u043a\\u0430\\u044f \\u043e\\u0431\\u043b\\u0430\\u0441\\u0442\\u044c\",287],[\"\\u0418\\u0432\\u0430\\u043d\\u043e\\u0432\\u0441\\u043a\\u0430\\u044f \\u043e\\u0431\\u043b\\u0430\\u0441\\u0442\\u044c\",153],[\"\\u041a\\u0443\\u0440\\u0441\\u043a\\u0430\\u044f \\u043e\\u0431\\u043b\\u0430\\u0441\\u0442\\u044c\",139],[\"\\u0420\\u0435\\u0441\\u043f\\u0443\\u0431\\u043b\\u0438\\u043a\\u0430 \\u041a\\u0440\\u044b\\u043c\",201],[\"\\u0422\\u0432\\u0435\\u0440\\u0441\\u043a\\u0430\\u044f \\u043e\\u0431\\u043b\\u0430\\u0441\\u0442\\u044c\",184],[\"\\u0420\\u044f\\u0437\\u0430\\u043d\\u0441\\u043a\\u0430\\u044f \\u043e\\u0431\\u043b\\u0430\\u0441\\u0442\\u044c\",106],[\"\\u0410\\u0441\\u0442\\u0440\\u0430\\u0445\\u0430\\u043d\\u0441\\u043a\\u0430\\u044f \\u043e\\u0431\\u043b\\u0430\\u0441\\u0442\\u044c\",205],[\"\\u0420\\u0435\\u0441\\u043f\\u0443\\u0431\\u043b\\u0438\\u043a\\u0430 \\u041a\\u0430\\u0440\\u0435\\u043b\\u0438\\u044f\",121],[\"\\u0422\\u0430\\u043c\\u0431\\u043e\\u0432\\u0441\\u043a\\u0430\\u044f \\u043e\\u0431\\u043b\\u0430\\u0441\\u0442\\u044c\",120],[\"\\u0412\\u043b\\u0430\\u0434\\u0438\\u043c\\u0438\\u0440\\u0441\\u043a\\u0430\\u044f \\u043e\\u0431\\u043b\\u0430\\u0441\\u0442\\u044c\",128],[\"\\u0423\\u0434\\u043c\\u0443\\u0440\\u0442\\u0441\\u043a\\u0430\\u044f \\u0420\\u0435\\u0441\\u043f\\u0443\\u0431\\u043b\\u0438\\u043a\\u0430\",238],[\"\\u0420\\u0435\\u0441\\u043f\\u0443\\u0431\\u043b\\u0438\\u043a\\u0430 \\u0422\\u044b\\u0432\\u0430\",205],[\"\\u0421\\u043c\\u043e\\u043b\\u0435\\u043d\\u0441\\u043a\\u0430\\u044f \\u043e\\u0431\\u043b\\u0430\\u0441\\u0442\\u044c\",99],[\"\\u041f\\u0441\\u043a\\u043e\\u0432\\u0441\\u043a\\u0430\\u044f \\u043e\\u0431\\u043b\\u0430\\u0441\\u0442\\u044c\",90],[\"\\u0420\\u0435\\u0441\\u043f\\u0443\\u0431\\u043b\\u0438\\u043a\\u0430 \\u041a\\u0430\\u043b\\u043c\\u044b\\u043a\\u0438\\u044f\",123],[\"\\u0420\\u0435\\u0441\\u043f\\u0443\\u0431\\u043b\\u0438\\u043a\\u0430 \\u0425\\u0430\\u043a\\u0430\\u0441\\u0438\\u044f\",127],[\"\\u041d\\u043e\\u0432\\u0433\\u043e\\u0440\\u043e\\u0434\\u0441\\u043a\\u0430\\u044f \\u043e\\u0431\\u043b\\u0430\\u0441\\u0442\\u044c\",122],[\"\\u0420\\u0435\\u0441\\u043f\\u0443\\u0431\\u043b\\u0438\\u043a\\u0430 \\u0410\\u043b\\u0442\\u0430\\u0439\",169],[\"\\u041a\\u043e\\u0441\\u0442\\u0440\\u043e\\u043c\\u0441\\u043a\\u0430\\u044f \\u043e\\u0431\\u043b\\u0430\\u0441\\u0442\\u044c\",141],[\"\\u0421\\u0430\\u0445\\u0430\\u043b\\u0438\\u043d\\u0441\\u043a\\u0430\\u044f \\u043e\\u0431\\u043b\\u0430\\u0441\\u0442\\u044c\",135],[\"\\u0412\\u043e\\u043b\\u043e\\u0433\\u043e\\u0434\\u0441\\u043a\\u0430\\u044f \\u043e\\u0431\\u043b\\u0430\\u0441\\u0442\\u044c\",111],[\"\\u041b\\u0438\\u043f\\u0435\\u0446\\u043a\\u0430\\u044f \\u043e\\u0431\\u043b\\u0430\\u0441\\u0442\\u044c\",127],[\"\\u0410\\u043c\\u0443\\u0440\\u0441\\u043a\\u0430\\u044f \\u043e\\u0431\\u043b\\u0430\\u0441\\u0442\\u044c\",111],[\"\\u041a\\u0430\\u043b\\u0438\\u043d\\u0438\\u043d\\u0433\\u0440\\u0430\\u0434\\u0441\\u043a\\u0430\\u044f \\u043e\\u0431\\u043b\\u0430\\u0441\\u0442\\u044c\",71],[\"\\u0420\\u0435\\u0441\\u043f\\u0443\\u0431\\u043b\\u0438\\u043a\\u0430 \\u041c\\u043e\\u0440\\u0434\\u043e\\u0432\\u0438\\u044f\",49],[\"\\u0420\\u0435\\u0441\\u043f\\u0443\\u0431\\u043b\\u0438\\u043a\\u0430 \\u0422\\u0430\\u0442\\u0430\\u0440\\u0441\\u0442\\u0430\\u043d\",124],[\"\\u0420\\u0435\\u0441\\u043f\\u0443\\u0431\\u043b\\u0438\\u043a\\u0430 \\u0418\\u043d\\u0433\\u0443\\u0448\\u0435\\u0442\\u0438\\u044f\",219],[\"\\u041a\\u0443\\u0440\\u0433\\u0430\\u043d\\u0441\\u043a\\u0430\\u044f \\u043e\\u0431\\u043b\\u0430\\u0441\\u0442\\u044c\",41],[\"\\u0420\\u0435\\u0441\\u043f\\u0443\\u0431\\u043b\\u0438\\u043a\\u0430 \\u0410\\u0434\\u044b\\u0433\\u0435\\u044f\",61],[\"\\u0420\\u0435\\u0441\\u043f\\u0443\\u0431\\u043b\\u0438\\u043a\\u0430 \\u041c\\u0430\\u0440\\u0438\\u0439 \\u042d\\u043b\",55],[\"\\u041a\\u0430\\u043c\\u0447\\u0430\\u0442\\u0441\\u043a\\u0438\\u0439 \\u043a\\u0440\\u0430\\u0439\",141],[\"\\u041c\\u0430\\u0433\\u0430\\u0434\\u0430\\u043d\\u0441\\u043a\\u0430\\u044f \\u043e\\u0431\\u043b\\u0430\\u0441\\u0442\\u044c\",61],[\"\\u0421\\u0435\\u0432\\u0430\\u0441\\u0442\\u043e\\u043f\\u043e\\u043b\\u044c\",61],[\"\\u0427\\u0435\\u0447\\u0435\\u043d\\u0441\\u043a\\u0430\\u044f \\u0420\\u0435\\u0441\\u043f\\u0443\\u0431\\u043b\\u0438\\u043a\\u0430\",29],[\"\\u041d\\u0435\\u043d\\u0435\\u0446\\u043a\\u0438\\u0439 \\u0430\\u0432\\u0442\\u043e\\u043d\\u043e\\u043c\\u043d\\u044b\\u0439 \\u043e\\u043a\\u0440\\u0443\\u0433\",10],[\"\\u0427\\u0443\\u043a\\u043e\\u0442\\u0441\\u043a\\u0438\\u0439 \\u0430\\u0432\\u0442\\u043e\\u043d\\u043e\\u043c\\u043d\\u044b\\u0439 \\u043e\\u043a\\u0440\\u0443\\u0433\",2]],\"hovertemplate\":\"<b>%{hovertext}</b><br><br>new=%{customdata[1]}<br>geo_lat=%{lat}<br>geo_lon=%{lon}<br>city_y=%{customdata[0]}<extra></extra>\",\"hovertext\":[\"0.012913172270857372\",\"0.033580617215823796\",\"0.017027316680903792\",\"0.016761251731527822\",\"0.01141746519401229\",\"0.012016161040683057\",\"0.020140666199873734\",\"0.01617922677940984\",\"0.01643782674363306\",\"0.014123822831269704\",\"0.018312615583958917\",\"0.01032296425983314\",\"0.01320356648798375\",\"0.024328865438565814\",\"0.02211944990879793\",\"0.011951391017049106\",\"0.02008759645420184\",\"0.011825371204444268\",\"0.030748026664472947\",\"0.02060642512519449\",\"0.004526412231810075\",\"0.018095791143899368\",\"0.02434750112536415\",\"0.018316632498610926\",\"0.01236415418526619\",\"0.03401729639306925\",\"0.028147106867894078\",\"0.013401536955793394\",\"0.01929834990492978\",\"0.019118374602748685\",\"0.019042405055758542\",\"0.007075848449620852\",\"0.015719895402848252\",\"0.009900605837872431\",\"0.008935727562626831\",\"0.01740614056002444\",\"0.0072993854218480385\",\"0.028529762904747374\",\"0.009886709935561913\",\"0.014328345900701471\",\"0.014795316730190838\",\"0.018177273863352342\",\"0.016931663168521162\",\"0.006588773437150976\",\"0.01294467914847547\",\"0.012033742614290471\",\"0.012799104062715609\",\"0.020886500300133743\",\"0.013657516130858992\",\"0.013493584413955909\",\"0.008937775208994978\",\"0.011398905149061537\",\"0.02130254137641255\",\"0.011001655658999174\",\"0.031636920473393164\",\"0.01783284177083913\",\"0.021313815141334274\",\"0.02272480668559718\",\"0.01535780666335325\",\"0.04095412031656428\",\"0.008977920637710555\",\"0.0012555596952013534\",\"0.037875548279106136\",\"0.04879363855722336\",\"0.018624511674389024\",\"0.01203896678034609\",\"0.01760349253291853\",\"0.009547980974462876\",\"0.013162068214036805\",\"0.00898255617042707\",\"0.020684883629697785\",\"0.022670596236681023\",\"0.0039427512518235225\"],\"lat\":[55.7540471,55.8317203,59.9391313,56.3240627,56.8385216,47.2224566,56.0093879,51.6593332,52.2864036,45.044516,54.3079415,69.007721,48.7070042,51.5303047,51.9581028,48.4647258,51.7875092,55.028191,54.9848566,45.0401604,53.1950306,43.1164904,55.3910651,61.6686617,53.1753314,58.0102583,62.0281405,42.9849159,52.0340142,56.4845804,58.6035264,53.2419535,60.0191278,54.1920559,57.6215477,52.9671298,50.5976472,54.5059848,56.9993792,51.7303637,44.9482948,56.8586059,54.6254445,46.3655652,61.7891264,52.7213154,56.1280804,56.852738,51.7191047,54.7866913,57.8194415,46.3083344,53.7223325,58.5213846,51.9581028,40.9908264,46.9591631,48.7070042,52.610249,50.290659,54.7074702,54.1809332,49.1114975,43.1688611,55.4443883,44.6098268,56.6343662,53.036908,59.5681332,44.6167013,43.3180145,67.6379672,64.7313924],\"legendgroup\":\"\",\"lon\":[37.620405,37.3295266,30.3159004,44.0053913,60.6054911,39.718803,92.8524806,39.1969229,104.2807466,41.9689655,48.3748487,33.0685865,44.5170339,45.9529348,85.9603235,135.0598942,55.1018828,82.9211489,73.3674517,38.9759647,50.1069518,131.8823937,86.0467781,50.8358151,45.0348625,56.2342034,129.7325887,47.5047181,113.4994,84.9481582,49.6679304,34.3652146,30.6456718,37.6153842,39.8977411,36.0696427,36.5856652,36.2516245,40.9728272,36.1925603,34.1001151,35.9116761,39.7358609,48.0559236,34.3596434,41.452264,40.4084376,53.2114896,94.4376882,31.8152477,28.3317198,44.2702088,91.4436721,31.2755394,85.9603235,268617.0,142.737976,44.5170339,39.5947883,127.527198,20.5073241,45.1862632,1216965.0,44.8131207,65.3161963,40.1006606,47.8999706,158.6559254,150.8084956,33.525355,45.698291,53.0069565,177.5015421],\"marker\":{\"color\":\"fuchsia\",\"size\":[1639,1811,1309,537,479,518,468,464,393,449,476,250,329,320,272,335,387,274,228,394,257,354,258,239,232,279,173,254,224,228,240,198,197,125,131,192,194,287,153,139,201,184,106,205,121,120,128,238,205,99,90,123,127,122,169,141,135,111,127,111,71,49,124,219,41,61,55,141,61,61,29,10,2],\"sizemode\":\"area\",\"sizeref\":4.5275},\"mode\":\"markers\",\"name\":\"\",\"showlegend\":false,\"subplot\":\"mapbox\",\"type\":\"scattermapbox\"}],                        {\"height\":500,\"legend\":{\"itemsizing\":\"constant\",\"tracegroupgap\":0},\"mapbox\":{\"center\":{\"lat\":53.31153734246575,\"lon\":20409.581530704112},\"domain\":{\"x\":[0.0,1.0],\"y\":[0.0,1.0]},\"style\":\"open-street-map\",\"zoom\":3},\"margin\":{\"b\":0,\"l\":0,\"r\":0,\"t\":0},\"template\":{\"data\":{\"bar\":[{\"error_x\":{\"color\":\"#2a3f5f\"},\"error_y\":{\"color\":\"#2a3f5f\"},\"marker\":{\"line\":{\"color\":\"#E5ECF6\",\"width\":0.5},\"pattern\":{\"fillmode\":\"overlay\",\"size\":10,\"solidity\":0.2}},\"type\":\"bar\"}],\"barpolar\":[{\"marker\":{\"line\":{\"color\":\"#E5ECF6\",\"width\":0.5},\"pattern\":{\"fillmode\":\"overlay\",\"size\":10,\"solidity\":0.2}},\"type\":\"barpolar\"}],\"carpet\":[{\"aaxis\":{\"endlinecolor\":\"#2a3f5f\",\"gridcolor\":\"white\",\"linecolor\":\"white\",\"minorgridcolor\":\"white\",\"startlinecolor\":\"#2a3f5f\"},\"baxis\":{\"endlinecolor\":\"#2a3f5f\",\"gridcolor\":\"white\",\"linecolor\":\"white\",\"minorgridcolor\":\"white\",\"startlinecolor\":\"#2a3f5f\"},\"type\":\"carpet\"}],\"choropleth\":[{\"colorbar\":{\"outlinewidth\":0,\"ticks\":\"\"},\"type\":\"choropleth\"}],\"contour\":[{\"colorbar\":{\"outlinewidth\":0,\"ticks\":\"\"},\"colorscale\":[[0.0,\"#0d0887\"],[0.1111111111111111,\"#46039f\"],[0.2222222222222222,\"#7201a8\"],[0.3333333333333333,\"#9c179e\"],[0.4444444444444444,\"#bd3786\"],[0.5555555555555556,\"#d8576b\"],[0.6666666666666666,\"#ed7953\"],[0.7777777777777778,\"#fb9f3a\"],[0.8888888888888888,\"#fdca26\"],[1.0,\"#f0f921\"]],\"type\":\"contour\"}],\"contourcarpet\":[{\"colorbar\":{\"outlinewidth\":0,\"ticks\":\"\"},\"type\":\"contourcarpet\"}],\"heatmap\":[{\"colorbar\":{\"outlinewidth\":0,\"ticks\":\"\"},\"colorscale\":[[0.0,\"#0d0887\"],[0.1111111111111111,\"#46039f\"],[0.2222222222222222,\"#7201a8\"],[0.3333333333333333,\"#9c179e\"],[0.4444444444444444,\"#bd3786\"],[0.5555555555555556,\"#d8576b\"],[0.6666666666666666,\"#ed7953\"],[0.7777777777777778,\"#fb9f3a\"],[0.8888888888888888,\"#fdca26\"],[1.0,\"#f0f921\"]],\"type\":\"heatmap\"}],\"heatmapgl\":[{\"colorbar\":{\"outlinewidth\":0,\"ticks\":\"\"},\"colorscale\":[[0.0,\"#0d0887\"],[0.1111111111111111,\"#46039f\"],[0.2222222222222222,\"#7201a8\"],[0.3333333333333333,\"#9c179e\"],[0.4444444444444444,\"#bd3786\"],[0.5555555555555556,\"#d8576b\"],[0.6666666666666666,\"#ed7953\"],[0.7777777777777778,\"#fb9f3a\"],[0.8888888888888888,\"#fdca26\"],[1.0,\"#f0f921\"]],\"type\":\"heatmapgl\"}],\"histogram\":[{\"marker\":{\"pattern\":{\"fillmode\":\"overlay\",\"size\":10,\"solidity\":0.2}},\"type\":\"histogram\"}],\"histogram2d\":[{\"colorbar\":{\"outlinewidth\":0,\"ticks\":\"\"},\"colorscale\":[[0.0,\"#0d0887\"],[0.1111111111111111,\"#46039f\"],[0.2222222222222222,\"#7201a8\"],[0.3333333333333333,\"#9c179e\"],[0.4444444444444444,\"#bd3786\"],[0.5555555555555556,\"#d8576b\"],[0.6666666666666666,\"#ed7953\"],[0.7777777777777778,\"#fb9f3a\"],[0.8888888888888888,\"#fdca26\"],[1.0,\"#f0f921\"]],\"type\":\"histogram2d\"}],\"histogram2dcontour\":[{\"colorbar\":{\"outlinewidth\":0,\"ticks\":\"\"},\"colorscale\":[[0.0,\"#0d0887\"],[0.1111111111111111,\"#46039f\"],[0.2222222222222222,\"#7201a8\"],[0.3333333333333333,\"#9c179e\"],[0.4444444444444444,\"#bd3786\"],[0.5555555555555556,\"#d8576b\"],[0.6666666666666666,\"#ed7953\"],[0.7777777777777778,\"#fb9f3a\"],[0.8888888888888888,\"#fdca26\"],[1.0,\"#f0f921\"]],\"type\":\"histogram2dcontour\"}],\"mesh3d\":[{\"colorbar\":{\"outlinewidth\":0,\"ticks\":\"\"},\"type\":\"mesh3d\"}],\"parcoords\":[{\"line\":{\"colorbar\":{\"outlinewidth\":0,\"ticks\":\"\"}},\"type\":\"parcoords\"}],\"pie\":[{\"automargin\":true,\"type\":\"pie\"}],\"scatter\":[{\"marker\":{\"colorbar\":{\"outlinewidth\":0,\"ticks\":\"\"}},\"type\":\"scatter\"}],\"scatter3d\":[{\"line\":{\"colorbar\":{\"outlinewidth\":0,\"ticks\":\"\"}},\"marker\":{\"colorbar\":{\"outlinewidth\":0,\"ticks\":\"\"}},\"type\":\"scatter3d\"}],\"scattercarpet\":[{\"marker\":{\"colorbar\":{\"outlinewidth\":0,\"ticks\":\"\"}},\"type\":\"scattercarpet\"}],\"scattergeo\":[{\"marker\":{\"colorbar\":{\"outlinewidth\":0,\"ticks\":\"\"}},\"type\":\"scattergeo\"}],\"scattergl\":[{\"marker\":{\"colorbar\":{\"outlinewidth\":0,\"ticks\":\"\"}},\"type\":\"scattergl\"}],\"scattermapbox\":[{\"marker\":{\"colorbar\":{\"outlinewidth\":0,\"ticks\":\"\"}},\"type\":\"scattermapbox\"}],\"scatterpolar\":[{\"marker\":{\"colorbar\":{\"outlinewidth\":0,\"ticks\":\"\"}},\"type\":\"scatterpolar\"}],\"scatterpolargl\":[{\"marker\":{\"colorbar\":{\"outlinewidth\":0,\"ticks\":\"\"}},\"type\":\"scatterpolargl\"}],\"scatterternary\":[{\"marker\":{\"colorbar\":{\"outlinewidth\":0,\"ticks\":\"\"}},\"type\":\"scatterternary\"}],\"surface\":[{\"colorbar\":{\"outlinewidth\":0,\"ticks\":\"\"},\"colorscale\":[[0.0,\"#0d0887\"],[0.1111111111111111,\"#46039f\"],[0.2222222222222222,\"#7201a8\"],[0.3333333333333333,\"#9c179e\"],[0.4444444444444444,\"#bd3786\"],[0.5555555555555556,\"#d8576b\"],[0.6666666666666666,\"#ed7953\"],[0.7777777777777778,\"#fb9f3a\"],[0.8888888888888888,\"#fdca26\"],[1.0,\"#f0f921\"]],\"type\":\"surface\"}],\"table\":[{\"cells\":{\"fill\":{\"color\":\"#EBF0F8\"},\"line\":{\"color\":\"white\"}},\"header\":{\"fill\":{\"color\":\"#C8D4E3\"},\"line\":{\"color\":\"white\"}},\"type\":\"table\"}]},\"layout\":{\"annotationdefaults\":{\"arrowcolor\":\"#2a3f5f\",\"arrowhead\":0,\"arrowwidth\":1},\"autotypenumbers\":\"strict\",\"coloraxis\":{\"colorbar\":{\"outlinewidth\":0,\"ticks\":\"\"}},\"colorscale\":{\"diverging\":[[0,\"#8e0152\"],[0.1,\"#c51b7d\"],[0.2,\"#de77ae\"],[0.3,\"#f1b6da\"],[0.4,\"#fde0ef\"],[0.5,\"#f7f7f7\"],[0.6,\"#e6f5d0\"],[0.7,\"#b8e186\"],[0.8,\"#7fbc41\"],[0.9,\"#4d9221\"],[1,\"#276419\"]],\"sequential\":[[0.0,\"#0d0887\"],[0.1111111111111111,\"#46039f\"],[0.2222222222222222,\"#7201a8\"],[0.3333333333333333,\"#9c179e\"],[0.4444444444444444,\"#bd3786\"],[0.5555555555555556,\"#d8576b\"],[0.6666666666666666,\"#ed7953\"],[0.7777777777777778,\"#fb9f3a\"],[0.8888888888888888,\"#fdca26\"],[1.0,\"#f0f921\"]],\"sequentialminus\":[[0.0,\"#0d0887\"],[0.1111111111111111,\"#46039f\"],[0.2222222222222222,\"#7201a8\"],[0.3333333333333333,\"#9c179e\"],[0.4444444444444444,\"#bd3786\"],[0.5555555555555556,\"#d8576b\"],[0.6666666666666666,\"#ed7953\"],[0.7777777777777778,\"#fb9f3a\"],[0.8888888888888888,\"#fdca26\"],[1.0,\"#f0f921\"]]},\"colorway\":[\"#636efa\",\"#EF553B\",\"#00cc96\",\"#ab63fa\",\"#FFA15A\",\"#19d3f3\",\"#FF6692\",\"#B6E880\",\"#FF97FF\",\"#FECB52\"],\"font\":{\"color\":\"#2a3f5f\"},\"geo\":{\"bgcolor\":\"white\",\"lakecolor\":\"white\",\"landcolor\":\"#E5ECF6\",\"showlakes\":true,\"showland\":true,\"subunitcolor\":\"white\"},\"hoverlabel\":{\"align\":\"left\"},\"hovermode\":\"closest\",\"mapbox\":{\"style\":\"light\"},\"paper_bgcolor\":\"white\",\"plot_bgcolor\":\"#E5ECF6\",\"polar\":{\"angularaxis\":{\"gridcolor\":\"white\",\"linecolor\":\"white\",\"ticks\":\"\"},\"bgcolor\":\"#E5ECF6\",\"radialaxis\":{\"gridcolor\":\"white\",\"linecolor\":\"white\",\"ticks\":\"\"}},\"scene\":{\"xaxis\":{\"backgroundcolor\":\"#E5ECF6\",\"gridcolor\":\"white\",\"gridwidth\":2,\"linecolor\":\"white\",\"showbackground\":true,\"ticks\":\"\",\"zerolinecolor\":\"white\"},\"yaxis\":{\"backgroundcolor\":\"#E5ECF6\",\"gridcolor\":\"white\",\"gridwidth\":2,\"linecolor\":\"white\",\"showbackground\":true,\"ticks\":\"\",\"zerolinecolor\":\"white\"},\"zaxis\":{\"backgroundcolor\":\"#E5ECF6\",\"gridcolor\":\"white\",\"gridwidth\":2,\"linecolor\":\"white\",\"showbackground\":true,\"ticks\":\"\",\"zerolinecolor\":\"white\"}},\"shapedefaults\":{\"line\":{\"color\":\"#2a3f5f\"}},\"ternary\":{\"aaxis\":{\"gridcolor\":\"white\",\"linecolor\":\"white\",\"ticks\":\"\"},\"baxis\":{\"gridcolor\":\"white\",\"linecolor\":\"white\",\"ticks\":\"\"},\"bgcolor\":\"#E5ECF6\",\"caxis\":{\"gridcolor\":\"white\",\"linecolor\":\"white\",\"ticks\":\"\"}},\"title\":{\"x\":0.05},\"xaxis\":{\"automargin\":true,\"gridcolor\":\"white\",\"linecolor\":\"white\",\"ticks\":\"\",\"title\":{\"standoff\":15},\"zerolinecolor\":\"white\",\"zerolinewidth\":2},\"yaxis\":{\"automargin\":true,\"gridcolor\":\"white\",\"linecolor\":\"white\",\"ticks\":\"\",\"title\":{\"standoff\":15},\"zerolinecolor\":\"white\",\"zerolinewidth\":2}}}},                        {\"responsive\": true}                    ).then(function(){\n",
       "                            \n",
       "var gd = document.getElementById('c8457bbb-de06-4054-b56a-dac1ebdab08b');\n",
       "var x = new MutationObserver(function (mutations, observer) {{\n",
       "        var display = window.getComputedStyle(gd).display;\n",
       "        if (!display || display === 'none') {{\n",
       "            console.log([gd, 'removed!']);\n",
       "            Plotly.purge(gd);\n",
       "            observer.disconnect();\n",
       "        }}\n",
       "}});\n",
       "\n",
       "// Listen for the removal of the full notebook cells\n",
       "var notebookContainer = gd.closest('#notebook-container');\n",
       "if (notebookContainer) {{\n",
       "    x.observe(notebookContainer, {childList: true});\n",
       "}}\n",
       "\n",
       "// Listen for the clearing of the current output cell\n",
       "var outputEl = gd.closest('.output');\n",
       "if (outputEl) {{\n",
       "    x.observe(outputEl, {childList: true});\n",
       "}}\n",
       "\n",
       "                        })                };                });            </script>        </div>"
      ]
     },
     "metadata": {},
     "output_type": "display_data"
    }
   ],
   "source": [
    "cities = total_tab\n",
    "fig = px.scatter_mapbox(cities, lat=\"geo_lat\", lon=\"geo_lon\", hover_name=\"total\", hover_data=[\"city_y\", \"new\"],\n",
    "                        color_discrete_sequence=[\"fuchsia\"],size=\"new\", zoom=3, height=500)\n",
    "fig.update_layout(mapbox_style=\"open-street-map\")\n",
    "fig.update_layout(margin={\"r\":0,\"t\":0,\"l\":0,\"b\":0})\n",
    "fig.show()"
   ]
  },
  {
   "cell_type": "code",
   "execution_count": 38,
   "metadata": {},
   "outputs": [
    {
     "data": {
      "text/html": [
       "<div>\n",
       "<style scoped>\n",
       "    .dataframe tbody tr th:only-of-type {\n",
       "        vertical-align: middle;\n",
       "    }\n",
       "\n",
       "    .dataframe tbody tr th {\n",
       "        vertical-align: top;\n",
       "    }\n",
       "\n",
       "    .dataframe thead th {\n",
       "        text-align: right;\n",
       "    }\n",
       "</style>\n",
       "<table border=\"1\" class=\"dataframe\">\n",
       "  <thead>\n",
       "    <tr style=\"text-align: right;\">\n",
       "      <th></th>\n",
       "      <th>city_x</th>\n",
       "      <th>identified</th>\n",
       "      <th>recovered</th>\n",
       "      <th>died</th>\n",
       "      <th>new</th>\n",
       "      <th>recovered_day</th>\n",
       "      <th>died_day</th>\n",
       "      <th>population_density</th>\n",
       "      <th>population</th>\n",
       "      <th>area</th>\n",
       "      <th>federal district</th>\n",
       "      <th>total</th>\n",
       "      <th>city_y</th>\n",
       "      <th>geo_lat</th>\n",
       "      <th>geo_lon</th>\n",
       "    </tr>\n",
       "  </thead>\n",
       "  <tbody>\n",
       "    <tr>\n",
       "      <th>61</th>\n",
       "      <td>РеспубликаТатарстан</td>\n",
       "      <td>24436</td>\n",
       "      <td>21594</td>\n",
       "      <td>637</td>\n",
       "      <td>49</td>\n",
       "      <td>39</td>\n",
       "      <td>4</td>\n",
       "      <td>5752</td>\n",
       "      <td>3902642</td>\n",
       "      <td>67847</td>\n",
       "      <td>ПФО</td>\n",
       "      <td>0.001256</td>\n",
       "      <td>Республика Мордовия</td>\n",
       "      <td>54.180933</td>\n",
       "      <td>45.186263</td>\n",
       "    </tr>\n",
       "  </tbody>\n",
       "</table>\n",
       "</div>"
      ],
      "text/plain": [
       "                 city_x  identified  recovered  died  new  recovered_day  \\\n",
       "61  РеспубликаТатарстан       24436      21594   637   49             39   \n",
       "\n",
       "    died_day population_density  population   area federal district     total  \\\n",
       "61         4               5752     3902642  67847              ПФО  0.001256   \n",
       "\n",
       "                 city_y    geo_lat    geo_lon  \n",
       "61  Республика Мордовия  54.180933  45.186263  "
      ]
     },
     "execution_count": 38,
     "metadata": {},
     "output_type": "execute_result"
    }
   ],
   "source": [
    "#Сортируем DataFrame по вероятности заболеть и оставляем 1 наименьшее значение\n",
    "safe = total_tab.sort_values(by='total')\n",
    "safe.head(1)"
   ]
  },
  {
   "cell_type": "code",
   "execution_count": null,
   "metadata": {},
   "outputs": [],
   "source": []
  }
 ],
 "metadata": {
  "kernelspec": {
   "display_name": "Python 3",
   "language": "python",
   "name": "python3"
  },
  "language_info": {
   "codemirror_mode": {
    "name": "ipython",
    "version": 3
   },
   "file_extension": ".py",
   "mimetype": "text/x-python",
   "name": "python",
   "nbconvert_exporter": "python",
   "pygments_lexer": "ipython3",
   "version": "3.8.5"
  }
 },
 "nbformat": 4,
 "nbformat_minor": 4
}
